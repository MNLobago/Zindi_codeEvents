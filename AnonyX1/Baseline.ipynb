{
 "cells": [
  {
   "cell_type": "markdown",
   "id": "30cba4f5-1899-42be-8abc-722cbe923df5",
   "metadata": {},
   "source": [
    "## Imports "
   ]
  },
  {
   "cell_type": "code",
   "execution_count": 1,
   "id": "81148293-79a3-45f1-9679-5c5a880117f2",
   "metadata": {},
   "outputs": [],
   "source": [
    "import numpy as np \n",
    "import pandas as pd \n",
    "import matplotlib.pyplot as plt \n",
    "import seaborn as sb \n",
    "\n",
    "%matplotlib inline "
   ]
  },
  {
   "cell_type": "markdown",
   "id": "9eaa3993-fd86-43a9-8abf-62a5c8b22105",
   "metadata": {},
   "source": [
    "**Loading our data**"
   ]
  },
  {
   "cell_type": "code",
   "execution_count": 2,
   "id": "cd7b0df5-e4ae-43c1-8356-6f1609048b79",
   "metadata": {},
   "outputs": [
    {
     "data": {
      "text/html": [
       "<div>\n",
       "<style scoped>\n",
       "    .dataframe tbody tr th:only-of-type {\n",
       "        vertical-align: middle;\n",
       "    }\n",
       "\n",
       "    .dataframe tbody tr th {\n",
       "        vertical-align: top;\n",
       "    }\n",
       "\n",
       "    .dataframe thead th {\n",
       "        text-align: right;\n",
       "    }\n",
       "</style>\n",
       "<table border=\"1\" class=\"dataframe\">\n",
       "  <thead>\n",
       "    <tr style=\"text-align: right;\">\n",
       "      <th></th>\n",
       "      <th>Place_ID X Date</th>\n",
       "      <th>Date</th>\n",
       "      <th>Place_ID</th>\n",
       "      <th>target</th>\n",
       "      <th>target_min</th>\n",
       "      <th>target_max</th>\n",
       "      <th>target_variance</th>\n",
       "      <th>target_count</th>\n",
       "      <th>precipitable_water_entire_atmosphere</th>\n",
       "      <th>relative_humidity_2m_above_ground</th>\n",
       "      <th>...</th>\n",
       "      <th>L3_SO2_sensor_zenith_angle</th>\n",
       "      <th>L3_SO2_solar_azimuth_angle</th>\n",
       "      <th>L3_SO2_solar_zenith_angle</th>\n",
       "      <th>L3_CH4_CH4_column_volume_mixing_ratio_dry_air</th>\n",
       "      <th>L3_CH4_aerosol_height</th>\n",
       "      <th>L3_CH4_aerosol_optical_depth</th>\n",
       "      <th>L3_CH4_sensor_azimuth_angle</th>\n",
       "      <th>L3_CH4_sensor_zenith_angle</th>\n",
       "      <th>L3_CH4_solar_azimuth_angle</th>\n",
       "      <th>L3_CH4_solar_zenith_angle</th>\n",
       "    </tr>\n",
       "  </thead>\n",
       "  <tbody>\n",
       "    <tr>\n",
       "      <th>0</th>\n",
       "      <td>010Q650 X 2020-01-02</td>\n",
       "      <td>2020-01-02</td>\n",
       "      <td>010Q650</td>\n",
       "      <td>38.0</td>\n",
       "      <td>23.0</td>\n",
       "      <td>53.0</td>\n",
       "      <td>769.50</td>\n",
       "      <td>92</td>\n",
       "      <td>11.000000</td>\n",
       "      <td>60.200001</td>\n",
       "      <td>...</td>\n",
       "      <td>38.593017</td>\n",
       "      <td>-61.752587</td>\n",
       "      <td>22.363665</td>\n",
       "      <td>1793.793579</td>\n",
       "      <td>3227.855469</td>\n",
       "      <td>0.010579</td>\n",
       "      <td>74.481049</td>\n",
       "      <td>37.501499</td>\n",
       "      <td>-62.142639</td>\n",
       "      <td>22.545118</td>\n",
       "    </tr>\n",
       "    <tr>\n",
       "      <th>1</th>\n",
       "      <td>010Q650 X 2020-01-03</td>\n",
       "      <td>2020-01-03</td>\n",
       "      <td>010Q650</td>\n",
       "      <td>39.0</td>\n",
       "      <td>25.0</td>\n",
       "      <td>63.0</td>\n",
       "      <td>1319.85</td>\n",
       "      <td>91</td>\n",
       "      <td>14.600000</td>\n",
       "      <td>48.799999</td>\n",
       "      <td>...</td>\n",
       "      <td>59.624912</td>\n",
       "      <td>-67.693509</td>\n",
       "      <td>28.614804</td>\n",
       "      <td>1789.960449</td>\n",
       "      <td>3384.226562</td>\n",
       "      <td>0.015104</td>\n",
       "      <td>75.630043</td>\n",
       "      <td>55.657486</td>\n",
       "      <td>-53.868134</td>\n",
       "      <td>19.293652</td>\n",
       "    </tr>\n",
       "    <tr>\n",
       "      <th>2</th>\n",
       "      <td>010Q650 X 2020-01-04</td>\n",
       "      <td>2020-01-04</td>\n",
       "      <td>010Q650</td>\n",
       "      <td>24.0</td>\n",
       "      <td>8.0</td>\n",
       "      <td>56.0</td>\n",
       "      <td>1181.96</td>\n",
       "      <td>96</td>\n",
       "      <td>16.400000</td>\n",
       "      <td>33.400002</td>\n",
       "      <td>...</td>\n",
       "      <td>49.839714</td>\n",
       "      <td>-78.342701</td>\n",
       "      <td>34.296977</td>\n",
       "      <td>NaN</td>\n",
       "      <td>NaN</td>\n",
       "      <td>NaN</td>\n",
       "      <td>NaN</td>\n",
       "      <td>NaN</td>\n",
       "      <td>NaN</td>\n",
       "      <td>NaN</td>\n",
       "    </tr>\n",
       "    <tr>\n",
       "      <th>3</th>\n",
       "      <td>010Q650 X 2020-01-05</td>\n",
       "      <td>2020-01-05</td>\n",
       "      <td>010Q650</td>\n",
       "      <td>49.0</td>\n",
       "      <td>10.0</td>\n",
       "      <td>55.0</td>\n",
       "      <td>1113.67</td>\n",
       "      <td>96</td>\n",
       "      <td>6.911948</td>\n",
       "      <td>21.300001</td>\n",
       "      <td>...</td>\n",
       "      <td>29.181258</td>\n",
       "      <td>-73.896588</td>\n",
       "      <td>30.545446</td>\n",
       "      <td>NaN</td>\n",
       "      <td>NaN</td>\n",
       "      <td>NaN</td>\n",
       "      <td>NaN</td>\n",
       "      <td>NaN</td>\n",
       "      <td>NaN</td>\n",
       "      <td>NaN</td>\n",
       "    </tr>\n",
       "    <tr>\n",
       "      <th>4</th>\n",
       "      <td>010Q650 X 2020-01-06</td>\n",
       "      <td>2020-01-06</td>\n",
       "      <td>010Q650</td>\n",
       "      <td>21.0</td>\n",
       "      <td>9.0</td>\n",
       "      <td>52.0</td>\n",
       "      <td>1164.82</td>\n",
       "      <td>95</td>\n",
       "      <td>13.900001</td>\n",
       "      <td>44.700001</td>\n",
       "      <td>...</td>\n",
       "      <td>0.797294</td>\n",
       "      <td>-68.612480</td>\n",
       "      <td>26.899694</td>\n",
       "      <td>NaN</td>\n",
       "      <td>NaN</td>\n",
       "      <td>NaN</td>\n",
       "      <td>NaN</td>\n",
       "      <td>NaN</td>\n",
       "      <td>NaN</td>\n",
       "      <td>NaN</td>\n",
       "    </tr>\n",
       "  </tbody>\n",
       "</table>\n",
       "<p>5 rows × 82 columns</p>\n",
       "</div>"
      ],
      "text/plain": [
       "        Place_ID X Date        Date Place_ID  target  target_min  target_max  \\\n",
       "0  010Q650 X 2020-01-02  2020-01-02  010Q650    38.0        23.0        53.0   \n",
       "1  010Q650 X 2020-01-03  2020-01-03  010Q650    39.0        25.0        63.0   \n",
       "2  010Q650 X 2020-01-04  2020-01-04  010Q650    24.0         8.0        56.0   \n",
       "3  010Q650 X 2020-01-05  2020-01-05  010Q650    49.0        10.0        55.0   \n",
       "4  010Q650 X 2020-01-06  2020-01-06  010Q650    21.0         9.0        52.0   \n",
       "\n",
       "   target_variance  target_count  precipitable_water_entire_atmosphere  \\\n",
       "0           769.50            92                             11.000000   \n",
       "1          1319.85            91                             14.600000   \n",
       "2          1181.96            96                             16.400000   \n",
       "3          1113.67            96                              6.911948   \n",
       "4          1164.82            95                             13.900001   \n",
       "\n",
       "   relative_humidity_2m_above_ground  ...  L3_SO2_sensor_zenith_angle  \\\n",
       "0                          60.200001  ...                   38.593017   \n",
       "1                          48.799999  ...                   59.624912   \n",
       "2                          33.400002  ...                   49.839714   \n",
       "3                          21.300001  ...                   29.181258   \n",
       "4                          44.700001  ...                    0.797294   \n",
       "\n",
       "   L3_SO2_solar_azimuth_angle  L3_SO2_solar_zenith_angle  \\\n",
       "0                  -61.752587                  22.363665   \n",
       "1                  -67.693509                  28.614804   \n",
       "2                  -78.342701                  34.296977   \n",
       "3                  -73.896588                  30.545446   \n",
       "4                  -68.612480                  26.899694   \n",
       "\n",
       "   L3_CH4_CH4_column_volume_mixing_ratio_dry_air  L3_CH4_aerosol_height  \\\n",
       "0                                    1793.793579            3227.855469   \n",
       "1                                    1789.960449            3384.226562   \n",
       "2                                            NaN                    NaN   \n",
       "3                                            NaN                    NaN   \n",
       "4                                            NaN                    NaN   \n",
       "\n",
       "   L3_CH4_aerosol_optical_depth  L3_CH4_sensor_azimuth_angle  \\\n",
       "0                      0.010579                    74.481049   \n",
       "1                      0.015104                    75.630043   \n",
       "2                           NaN                          NaN   \n",
       "3                           NaN                          NaN   \n",
       "4                           NaN                          NaN   \n",
       "\n",
       "   L3_CH4_sensor_zenith_angle  L3_CH4_solar_azimuth_angle  \\\n",
       "0                   37.501499                  -62.142639   \n",
       "1                   55.657486                  -53.868134   \n",
       "2                         NaN                         NaN   \n",
       "3                         NaN                         NaN   \n",
       "4                         NaN                         NaN   \n",
       "\n",
       "   L3_CH4_solar_zenith_angle  \n",
       "0                  22.545118  \n",
       "1                  19.293652  \n",
       "2                        NaN  \n",
       "3                        NaN  \n",
       "4                        NaN  \n",
       "\n",
       "[5 rows x 82 columns]"
      ]
     },
     "execution_count": 2,
     "metadata": {},
     "output_type": "execute_result"
    }
   ],
   "source": [
    "train = pd.read_csv(\"Train.csv\")\n",
    "\n",
    "train.head()"
   ]
  },
  {
   "cell_type": "code",
   "execution_count": 3,
   "id": "555e0945-1ff2-4180-8af2-d6ee3c511cb0",
   "metadata": {},
   "outputs": [
    {
     "data": {
      "text/html": [
       "<div>\n",
       "<style scoped>\n",
       "    .dataframe tbody tr th:only-of-type {\n",
       "        vertical-align: middle;\n",
       "    }\n",
       "\n",
       "    .dataframe tbody tr th {\n",
       "        vertical-align: top;\n",
       "    }\n",
       "\n",
       "    .dataframe thead th {\n",
       "        text-align: right;\n",
       "    }\n",
       "</style>\n",
       "<table border=\"1\" class=\"dataframe\">\n",
       "  <thead>\n",
       "    <tr style=\"text-align: right;\">\n",
       "      <th></th>\n",
       "      <th>Place_ID X Date</th>\n",
       "      <th>Date</th>\n",
       "      <th>Place_ID</th>\n",
       "      <th>precipitable_water_entire_atmosphere</th>\n",
       "      <th>relative_humidity_2m_above_ground</th>\n",
       "      <th>specific_humidity_2m_above_ground</th>\n",
       "      <th>temperature_2m_above_ground</th>\n",
       "      <th>u_component_of_wind_10m_above_ground</th>\n",
       "      <th>v_component_of_wind_10m_above_ground</th>\n",
       "      <th>L3_NO2_NO2_column_number_density</th>\n",
       "      <th>...</th>\n",
       "      <th>L3_SO2_sensor_zenith_angle</th>\n",
       "      <th>L3_SO2_solar_azimuth_angle</th>\n",
       "      <th>L3_SO2_solar_zenith_angle</th>\n",
       "      <th>L3_CH4_CH4_column_volume_mixing_ratio_dry_air</th>\n",
       "      <th>L3_CH4_aerosol_height</th>\n",
       "      <th>L3_CH4_aerosol_optical_depth</th>\n",
       "      <th>L3_CH4_sensor_azimuth_angle</th>\n",
       "      <th>L3_CH4_sensor_zenith_angle</th>\n",
       "      <th>L3_CH4_solar_azimuth_angle</th>\n",
       "      <th>L3_CH4_solar_zenith_angle</th>\n",
       "    </tr>\n",
       "  </thead>\n",
       "  <tbody>\n",
       "    <tr>\n",
       "      <th>0</th>\n",
       "      <td>0OS9LVX X 2020-01-02</td>\n",
       "      <td>2020-01-02</td>\n",
       "      <td>0OS9LVX</td>\n",
       "      <td>11.600000</td>\n",
       "      <td>30.200001</td>\n",
       "      <td>0.00409</td>\n",
       "      <td>14.656824</td>\n",
       "      <td>3.956377</td>\n",
       "      <td>0.712605</td>\n",
       "      <td>0.000053</td>\n",
       "      <td>...</td>\n",
       "      <td>1.445658</td>\n",
       "      <td>-95.984984</td>\n",
       "      <td>22.942019</td>\n",
       "      <td>NaN</td>\n",
       "      <td>NaN</td>\n",
       "      <td>NaN</td>\n",
       "      <td>NaN</td>\n",
       "      <td>NaN</td>\n",
       "      <td>NaN</td>\n",
       "      <td>NaN</td>\n",
       "    </tr>\n",
       "    <tr>\n",
       "      <th>1</th>\n",
       "      <td>0OS9LVX X 2020-01-03</td>\n",
       "      <td>2020-01-03</td>\n",
       "      <td>0OS9LVX</td>\n",
       "      <td>18.300001</td>\n",
       "      <td>42.900002</td>\n",
       "      <td>0.00595</td>\n",
       "      <td>15.026544</td>\n",
       "      <td>4.230430</td>\n",
       "      <td>0.661892</td>\n",
       "      <td>0.000050</td>\n",
       "      <td>...</td>\n",
       "      <td>34.641758</td>\n",
       "      <td>-95.014908</td>\n",
       "      <td>18.539116</td>\n",
       "      <td>NaN</td>\n",
       "      <td>NaN</td>\n",
       "      <td>NaN</td>\n",
       "      <td>NaN</td>\n",
       "      <td>NaN</td>\n",
       "      <td>NaN</td>\n",
       "      <td>NaN</td>\n",
       "    </tr>\n",
       "    <tr>\n",
       "      <th>2</th>\n",
       "      <td>0OS9LVX X 2020-01-04</td>\n",
       "      <td>2020-01-04</td>\n",
       "      <td>0OS9LVX</td>\n",
       "      <td>17.600000</td>\n",
       "      <td>41.299999</td>\n",
       "      <td>0.00590</td>\n",
       "      <td>15.511041</td>\n",
       "      <td>5.245728</td>\n",
       "      <td>1.640559</td>\n",
       "      <td>0.000050</td>\n",
       "      <td>...</td>\n",
       "      <td>55.872276</td>\n",
       "      <td>-94.015418</td>\n",
       "      <td>14.140820</td>\n",
       "      <td>NaN</td>\n",
       "      <td>NaN</td>\n",
       "      <td>NaN</td>\n",
       "      <td>NaN</td>\n",
       "      <td>NaN</td>\n",
       "      <td>NaN</td>\n",
       "      <td>NaN</td>\n",
       "    </tr>\n",
       "    <tr>\n",
       "      <th>3</th>\n",
       "      <td>0OS9LVX X 2020-01-05</td>\n",
       "      <td>2020-01-05</td>\n",
       "      <td>0OS9LVX</td>\n",
       "      <td>15.011948</td>\n",
       "      <td>53.100002</td>\n",
       "      <td>0.00709</td>\n",
       "      <td>14.441858</td>\n",
       "      <td>5.454001</td>\n",
       "      <td>-0.190532</td>\n",
       "      <td>0.000055</td>\n",
       "      <td>...</td>\n",
       "      <td>59.174188</td>\n",
       "      <td>-97.247602</td>\n",
       "      <td>32.730553</td>\n",
       "      <td>NaN</td>\n",
       "      <td>NaN</td>\n",
       "      <td>NaN</td>\n",
       "      <td>NaN</td>\n",
       "      <td>NaN</td>\n",
       "      <td>NaN</td>\n",
       "      <td>NaN</td>\n",
       "    </tr>\n",
       "    <tr>\n",
       "      <th>4</th>\n",
       "      <td>0OS9LVX X 2020-01-06</td>\n",
       "      <td>2020-01-06</td>\n",
       "      <td>0OS9LVX</td>\n",
       "      <td>9.700000</td>\n",
       "      <td>71.599998</td>\n",
       "      <td>0.00808</td>\n",
       "      <td>11.896295</td>\n",
       "      <td>3.511787</td>\n",
       "      <td>-0.279441</td>\n",
       "      <td>0.000055</td>\n",
       "      <td>...</td>\n",
       "      <td>40.925873</td>\n",
       "      <td>-96.057265</td>\n",
       "      <td>28.320527</td>\n",
       "      <td>1831.261597</td>\n",
       "      <td>3229.118652</td>\n",
       "      <td>0.031068</td>\n",
       "      <td>-100.278343</td>\n",
       "      <td>41.84708</td>\n",
       "      <td>-95.910744</td>\n",
       "      <td>28.498789</td>\n",
       "    </tr>\n",
       "  </tbody>\n",
       "</table>\n",
       "<p>5 rows × 77 columns</p>\n",
       "</div>"
      ],
      "text/plain": [
       "        Place_ID X Date        Date Place_ID  \\\n",
       "0  0OS9LVX X 2020-01-02  2020-01-02  0OS9LVX   \n",
       "1  0OS9LVX X 2020-01-03  2020-01-03  0OS9LVX   \n",
       "2  0OS9LVX X 2020-01-04  2020-01-04  0OS9LVX   \n",
       "3  0OS9LVX X 2020-01-05  2020-01-05  0OS9LVX   \n",
       "4  0OS9LVX X 2020-01-06  2020-01-06  0OS9LVX   \n",
       "\n",
       "   precipitable_water_entire_atmosphere  relative_humidity_2m_above_ground  \\\n",
       "0                             11.600000                          30.200001   \n",
       "1                             18.300001                          42.900002   \n",
       "2                             17.600000                          41.299999   \n",
       "3                             15.011948                          53.100002   \n",
       "4                              9.700000                          71.599998   \n",
       "\n",
       "   specific_humidity_2m_above_ground  temperature_2m_above_ground  \\\n",
       "0                            0.00409                    14.656824   \n",
       "1                            0.00595                    15.026544   \n",
       "2                            0.00590                    15.511041   \n",
       "3                            0.00709                    14.441858   \n",
       "4                            0.00808                    11.896295   \n",
       "\n",
       "   u_component_of_wind_10m_above_ground  v_component_of_wind_10m_above_ground  \\\n",
       "0                              3.956377                              0.712605   \n",
       "1                              4.230430                              0.661892   \n",
       "2                              5.245728                              1.640559   \n",
       "3                              5.454001                             -0.190532   \n",
       "4                              3.511787                             -0.279441   \n",
       "\n",
       "   L3_NO2_NO2_column_number_density  ...  L3_SO2_sensor_zenith_angle  \\\n",
       "0                          0.000053  ...                    1.445658   \n",
       "1                          0.000050  ...                   34.641758   \n",
       "2                          0.000050  ...                   55.872276   \n",
       "3                          0.000055  ...                   59.174188   \n",
       "4                          0.000055  ...                   40.925873   \n",
       "\n",
       "   L3_SO2_solar_azimuth_angle  L3_SO2_solar_zenith_angle  \\\n",
       "0                  -95.984984                  22.942019   \n",
       "1                  -95.014908                  18.539116   \n",
       "2                  -94.015418                  14.140820   \n",
       "3                  -97.247602                  32.730553   \n",
       "4                  -96.057265                  28.320527   \n",
       "\n",
       "   L3_CH4_CH4_column_volume_mixing_ratio_dry_air  L3_CH4_aerosol_height  \\\n",
       "0                                            NaN                    NaN   \n",
       "1                                            NaN                    NaN   \n",
       "2                                            NaN                    NaN   \n",
       "3                                            NaN                    NaN   \n",
       "4                                    1831.261597            3229.118652   \n",
       "\n",
       "   L3_CH4_aerosol_optical_depth  L3_CH4_sensor_azimuth_angle  \\\n",
       "0                           NaN                          NaN   \n",
       "1                           NaN                          NaN   \n",
       "2                           NaN                          NaN   \n",
       "3                           NaN                          NaN   \n",
       "4                      0.031068                  -100.278343   \n",
       "\n",
       "   L3_CH4_sensor_zenith_angle  L3_CH4_solar_azimuth_angle  \\\n",
       "0                         NaN                         NaN   \n",
       "1                         NaN                         NaN   \n",
       "2                         NaN                         NaN   \n",
       "3                         NaN                         NaN   \n",
       "4                    41.84708                  -95.910744   \n",
       "\n",
       "   L3_CH4_solar_zenith_angle  \n",
       "0                        NaN  \n",
       "1                        NaN  \n",
       "2                        NaN  \n",
       "3                        NaN  \n",
       "4                  28.498789  \n",
       "\n",
       "[5 rows x 77 columns]"
      ]
     },
     "execution_count": 3,
     "metadata": {},
     "output_type": "execute_result"
    }
   ],
   "source": [
    "test = pd.read_csv(\"Test.csv\")\n",
    "\n",
    "test.head()"
   ]
  },
  {
   "cell_type": "markdown",
   "id": "daac2be9-2189-492d-a43d-83e93c9b5305",
   "metadata": {},
   "source": [
    "**Checking the Data type of our target**"
   ]
  },
  {
   "cell_type": "code",
   "execution_count": 4,
   "id": "cd0f0a17-2e41-48be-a8ed-12cd41305ae0",
   "metadata": {},
   "outputs": [
    {
     "data": {
      "text/plain": [
       "dtype('float64')"
      ]
     },
     "execution_count": 4,
     "metadata": {},
     "output_type": "execute_result"
    }
   ],
   "source": [
    "train.target.dtype"
   ]
  },
  {
   "cell_type": "code",
   "execution_count": 5,
   "id": "ec9e3ab7-1765-403b-b29f-0e5dbb6c169f",
   "metadata": {},
   "outputs": [
    {
     "data": {
      "text/plain": [
       "(30557, 82)"
      ]
     },
     "execution_count": 5,
     "metadata": {},
     "output_type": "execute_result"
    }
   ],
   "source": [
    "train.shape"
   ]
  },
  {
   "cell_type": "code",
   "execution_count": 6,
   "id": "0e927926-409d-4ed3-a498-c64ed38a7237",
   "metadata": {},
   "outputs": [
    {
     "data": {
      "text/plain": [
       "(16136, 77)"
      ]
     },
     "execution_count": 6,
     "metadata": {},
     "output_type": "execute_result"
    }
   ],
   "source": [
    "test.shape"
   ]
  },
  {
   "cell_type": "markdown",
   "id": "cb8eaec4-515c-4bef-9223-2e46c32748c8",
   "metadata": {},
   "source": [
    "**Target and target related columns**"
   ]
  },
  {
   "cell_type": "code",
   "execution_count": 7,
   "id": "1ac7e023-3625-4de4-9240-12bd2d80a7a2",
   "metadata": {},
   "outputs": [
    {
     "name": "stdout",
     "output_type": "stream",
     "text": [
      "['target', 'target_min', 'target_max', 'target_variance', 'target_count']\n"
     ]
    }
   ],
   "source": [
    "diff = [tr for tr in train.columns if tr not in test.columns]\n",
    "\n",
    "print(diff)"
   ]
  },
  {
   "cell_type": "markdown",
   "id": "24b6a362-66fd-4a62-99fc-c1bedfa9e82a",
   "metadata": {},
   "source": [
    "**Seeems we have 4 that's intresting**"
   ]
  },
  {
   "cell_type": "markdown",
   "id": "f22f79ac-940b-4486-9ff5-83518813429c",
   "metadata": {},
   "source": [
    "## Exploring train"
   ]
  },
  {
   "cell_type": "code",
   "execution_count": 8,
   "id": "ab737f81-c16e-481c-9a34-e207cc97f0c2",
   "metadata": {},
   "outputs": [
    {
     "data": {
      "text/plain": [
       "Place_ID X Date     object\n",
       "Date                object\n",
       "Place_ID            object\n",
       "target             float64\n",
       "target_min         float64\n",
       "dtype: object"
      ]
     },
     "execution_count": 8,
     "metadata": {},
     "output_type": "execute_result"
    }
   ],
   "source": [
    "train.dtypes.head()"
   ]
  },
  {
   "cell_type": "code",
   "execution_count": 9,
   "id": "04150887-1f15-4813-a8b3-88d7df01149d",
   "metadata": {},
   "outputs": [
    {
     "data": {
      "text/plain": [
       "(30557, 82)"
      ]
     },
     "execution_count": 9,
     "metadata": {},
     "output_type": "execute_result"
    }
   ],
   "source": [
    "train.shape"
   ]
  },
  {
   "cell_type": "markdown",
   "id": "d057f26d-604c-4912-84a2-c051835c1781",
   "metadata": {},
   "source": [
    "## Checking for percentage of missing values"
   ]
  },
  {
   "cell_type": "code",
   "execution_count": 10,
   "id": "1e1ca75c-44d6-4d7b-9853-5ea2cfed78fa",
   "metadata": {},
   "outputs": [],
   "source": [
    "null_perCols = (train.isna().sum()[train.isnull().sum() > 0] /train.shape[0]*100).sort_values(ascending = False)"
   ]
  },
  {
   "cell_type": "code",
   "execution_count": 11,
   "id": "afb27caf-2d9d-40bd-9865-d5565f5099e9",
   "metadata": {},
   "outputs": [
    {
     "data": {
      "text/plain": [
       "L3_CH4_solar_zenith_angle                        81.04526\n",
       "L3_CH4_solar_azimuth_angle                       81.04526\n",
       "L3_CH4_sensor_zenith_angle                       81.04526\n",
       "L3_CH4_sensor_azimuth_angle                      81.04526\n",
       "L3_CH4_aerosol_optical_depth                     81.04526\n",
       "L3_CH4_aerosol_height                            81.04526\n",
       "L3_CH4_CH4_column_volume_mixing_ratio_dry_air    81.04526\n",
       "dtype: float64"
      ]
     },
     "execution_count": 11,
     "metadata": {},
     "output_type": "execute_result"
    }
   ],
   "source": [
    "null_perCols[null_perCols > 50]"
   ]
  },
  {
   "cell_type": "markdown",
   "id": "49ee81a4-48c5-408d-8980-c94c0815f08d",
   "metadata": {},
   "source": [
    "**Function to drop columns with large number of missing values**"
   ]
  },
  {
   "cell_type": "code",
   "execution_count": 12,
   "id": "5c9d8621-a160-4684-b00f-f65cf59bbcb3",
   "metadata": {},
   "outputs": [],
   "source": [
    "def baseline_clean(df):\n",
    "    drops = [\"L3_CH4_solar_zenith_angle\", \"L3_CH4_solar_azimuth_angle\", \"L3_CH4_sensor_zenith_angle\",\"L3_CH4_sensor_zenith_angle\", \\\n",
    "             \"L3_CH4_sensor_azimuth_angle\", \"L3_CH4_aerosol_optical_depth\", \"L3_CH4_aerosol_height\", \"L3_CH4_CH4_column_volume_mixing_ratio_dry_air\"]\n",
    "    \n",
    "    df = df.drop(drops , axis = 1)\n",
    "    \n",
    "    return df"
   ]
  },
  {
   "cell_type": "markdown",
   "id": "dde9a542-52c8-46ca-bdd0-46241e99c557",
   "metadata": {},
   "source": [
    "**Train remove**"
   ]
  },
  {
   "cell_type": "code",
   "execution_count": 13,
   "id": "765fa01d-8a63-489d-bf63-d1b7be2cac05",
   "metadata": {},
   "outputs": [],
   "source": [
    "new_train = baseline_clean(train)"
   ]
  },
  {
   "cell_type": "code",
   "execution_count": 14,
   "id": "fa64608a-8ed4-445c-85ca-62b3cc584321",
   "metadata": {},
   "outputs": [
    {
     "data": {
      "text/plain": [
       "Place_ID X Date    object\n",
       "Date               object\n",
       "Place_ID           object\n",
       "dtype: object"
      ]
     },
     "execution_count": 14,
     "metadata": {},
     "output_type": "execute_result"
    }
   ],
   "source": [
    "new_train.dtypes[new_train.dtypes == \"object\"]"
   ]
  },
  {
   "cell_type": "code",
   "execution_count": 15,
   "id": "b7f97e30-987e-47a6-9183-9e6a7dc518e4",
   "metadata": {},
   "outputs": [
    {
     "data": {
      "text/plain": [
       "0        010Q650 X 2020-01-02\n",
       "1        010Q650 X 2020-01-03\n",
       "2        010Q650 X 2020-01-04\n",
       "3        010Q650 X 2020-01-05\n",
       "4        010Q650 X 2020-01-06\n",
       "                 ...         \n",
       "30552    YWSFY6Q X 2020-03-15\n",
       "30553    YWSFY6Q X 2020-03-16\n",
       "30554    YWSFY6Q X 2020-03-17\n",
       "30555    YWSFY6Q X 2020-03-18\n",
       "30556    YWSFY6Q X 2020-03-19\n",
       "Name: Place_ID X Date, Length: 30557, dtype: object"
      ]
     },
     "execution_count": 15,
     "metadata": {},
     "output_type": "execute_result"
    }
   ],
   "source": [
    "new_train[\"Place_ID X Date\"]"
   ]
  },
  {
   "cell_type": "code",
   "execution_count": 16,
   "id": "ffae4c48-687e-460f-8317-186acecad783",
   "metadata": {},
   "outputs": [
    {
     "data": {
      "text/plain": [
       "0        010Q650\n",
       "1        010Q650\n",
       "2        010Q650\n",
       "3        010Q650\n",
       "4        010Q650\n",
       "          ...   \n",
       "30552    YWSFY6Q\n",
       "30553    YWSFY6Q\n",
       "30554    YWSFY6Q\n",
       "30555    YWSFY6Q\n",
       "30556    YWSFY6Q\n",
       "Name: Place_ID, Length: 30557, dtype: object"
      ]
     },
     "execution_count": 16,
     "metadata": {},
     "output_type": "execute_result"
    }
   ],
   "source": [
    "new_train[\"Place_ID\"]"
   ]
  },
  {
   "cell_type": "code",
   "execution_count": 17,
   "id": "7f34aabd-6d49-4324-aed2-68135c478151",
   "metadata": {},
   "outputs": [
    {
     "data": {
      "text/html": [
       "<div>\n",
       "<style scoped>\n",
       "    .dataframe tbody tr th:only-of-type {\n",
       "        vertical-align: middle;\n",
       "    }\n",
       "\n",
       "    .dataframe tbody tr th {\n",
       "        vertical-align: top;\n",
       "    }\n",
       "\n",
       "    .dataframe thead th {\n",
       "        text-align: right;\n",
       "    }\n",
       "</style>\n",
       "<table border=\"1\" class=\"dataframe\">\n",
       "  <thead>\n",
       "    <tr style=\"text-align: right;\">\n",
       "      <th></th>\n",
       "      <th>NewPlace_ID</th>\n",
       "      <th>NewDate</th>\n",
       "    </tr>\n",
       "  </thead>\n",
       "  <tbody>\n",
       "    <tr>\n",
       "      <th>0</th>\n",
       "      <td>010Q650</td>\n",
       "      <td>2020-01-02</td>\n",
       "    </tr>\n",
       "    <tr>\n",
       "      <th>1</th>\n",
       "      <td>010Q650</td>\n",
       "      <td>2020-01-03</td>\n",
       "    </tr>\n",
       "    <tr>\n",
       "      <th>2</th>\n",
       "      <td>010Q650</td>\n",
       "      <td>2020-01-04</td>\n",
       "    </tr>\n",
       "    <tr>\n",
       "      <th>3</th>\n",
       "      <td>010Q650</td>\n",
       "      <td>2020-01-05</td>\n",
       "    </tr>\n",
       "    <tr>\n",
       "      <th>4</th>\n",
       "      <td>010Q650</td>\n",
       "      <td>2020-01-06</td>\n",
       "    </tr>\n",
       "  </tbody>\n",
       "</table>\n",
       "</div>"
      ],
      "text/plain": [
       "  NewPlace_ID     NewDate\n",
       "0     010Q650  2020-01-02\n",
       "1     010Q650  2020-01-03\n",
       "2     010Q650  2020-01-04\n",
       "3     010Q650  2020-01-05\n",
       "4     010Q650  2020-01-06"
      ]
     },
     "execution_count": 17,
     "metadata": {},
     "output_type": "execute_result"
    }
   ],
   "source": [
    "# Splitting the \"Place_ID X Date\" column and creating a new DataFrame\n",
    "to_check = new_train[\"Place_ID X Date\"].str.split(\" X \", expand=True)\n",
    "\n",
    "# Naming the columns in the new DataFrame\n",
    "to_check.columns = [\"NewPlace_ID\", \"NewDate\"]\n",
    "\n",
    "to_check.head()"
   ]
  },
  {
   "cell_type": "markdown",
   "id": "1bf91520-7fe8-439d-8155-e166f0dba7e9",
   "metadata": {},
   "source": [
    "**Checking if `Place_ID X Date` is a composition of `Place_ID` and `Date`**"
   ]
  },
  {
   "cell_type": "code",
   "execution_count": 18,
   "id": "f84e47aa-67b7-4929-861d-d770476a856e",
   "metadata": {},
   "outputs": [
    {
     "data": {
      "text/html": [
       "<div>\n",
       "<style scoped>\n",
       "    .dataframe tbody tr th:only-of-type {\n",
       "        vertical-align: middle;\n",
       "    }\n",
       "\n",
       "    .dataframe tbody tr th {\n",
       "        vertical-align: top;\n",
       "    }\n",
       "\n",
       "    .dataframe thead th {\n",
       "        text-align: right;\n",
       "    }\n",
       "</style>\n",
       "<table border=\"1\" class=\"dataframe\">\n",
       "  <thead>\n",
       "    <tr style=\"text-align: right;\">\n",
       "      <th></th>\n",
       "      <th>NewPlace_ID</th>\n",
       "      <th>NewDate</th>\n",
       "      <th>Date</th>\n",
       "      <th>Place_ID</th>\n",
       "    </tr>\n",
       "  </thead>\n",
       "  <tbody>\n",
       "    <tr>\n",
       "      <th>0</th>\n",
       "      <td>010Q650</td>\n",
       "      <td>2020-01-02</td>\n",
       "      <td>2020-01-02</td>\n",
       "      <td>010Q650</td>\n",
       "    </tr>\n",
       "    <tr>\n",
       "      <th>1</th>\n",
       "      <td>010Q650</td>\n",
       "      <td>2020-01-03</td>\n",
       "      <td>2020-01-03</td>\n",
       "      <td>010Q650</td>\n",
       "    </tr>\n",
       "    <tr>\n",
       "      <th>2</th>\n",
       "      <td>010Q650</td>\n",
       "      <td>2020-01-04</td>\n",
       "      <td>2020-01-04</td>\n",
       "      <td>010Q650</td>\n",
       "    </tr>\n",
       "    <tr>\n",
       "      <th>3</th>\n",
       "      <td>010Q650</td>\n",
       "      <td>2020-01-05</td>\n",
       "      <td>2020-01-05</td>\n",
       "      <td>010Q650</td>\n",
       "    </tr>\n",
       "    <tr>\n",
       "      <th>4</th>\n",
       "      <td>010Q650</td>\n",
       "      <td>2020-01-06</td>\n",
       "      <td>2020-01-06</td>\n",
       "      <td>010Q650</td>\n",
       "    </tr>\n",
       "  </tbody>\n",
       "</table>\n",
       "</div>"
      ],
      "text/plain": [
       "  NewPlace_ID     NewDate        Date Place_ID\n",
       "0     010Q650  2020-01-02  2020-01-02  010Q650\n",
       "1     010Q650  2020-01-03  2020-01-03  010Q650\n",
       "2     010Q650  2020-01-04  2020-01-04  010Q650\n",
       "3     010Q650  2020-01-05  2020-01-05  010Q650\n",
       "4     010Q650  2020-01-06  2020-01-06  010Q650"
      ]
     },
     "execution_count": 18,
     "metadata": {},
     "output_type": "execute_result"
    }
   ],
   "source": [
    "to_check[\"Date\"] = new_train[\"Date\"]\n",
    "to_check[\"Place_ID\"] = new_train[\"Place_ID\"]\n",
    "\n",
    "to_check.head()"
   ]
  },
  {
   "cell_type": "markdown",
   "id": "f608878f-cc4d-43cb-bde0-d9b72bc3c11f",
   "metadata": {},
   "source": [
    "**Clarification**"
   ]
  },
  {
   "cell_type": "code",
   "execution_count": 19,
   "id": "a3a0a3d0-61ed-457a-b08a-d97724ebd650",
   "metadata": {},
   "outputs": [
    {
     "name": "stdout",
     "output_type": "stream",
     "text": [
      "30557 30557\n",
      "30557 30557\n"
     ]
    }
   ],
   "source": [
    "print((to_check[\"Date\"].values == to_check[\"NewDate\"].values).sum(), to_check.shape[0])\n",
    "print((to_check[\"Place_ID\"].values == to_check[\"NewPlace_ID\"].values).sum(), to_check.shape[0])"
   ]
  },
  {
   "cell_type": "markdown",
   "id": "32b056bb-92b6-419f-ba58-b236b09bcd86",
   "metadata": {},
   "source": [
    "## `Date` column would make meaningfull features ?"
   ]
  },
  {
   "cell_type": "code",
   "execution_count": 20,
   "id": "d0d3a2fb-f3ff-4f9b-86f6-fa50eb43c60c",
   "metadata": {},
   "outputs": [
    {
     "data": {
      "text/plain": [
       "0        [2020, 01, 02]\n",
       "1        [2020, 01, 03]\n",
       "2        [2020, 01, 04]\n",
       "3        [2020, 01, 05]\n",
       "4        [2020, 01, 06]\n",
       "              ...      \n",
       "30552    [2020, 03, 15]\n",
       "30553    [2020, 03, 16]\n",
       "30554    [2020, 03, 17]\n",
       "30555    [2020, 03, 18]\n",
       "30556    [2020, 03, 19]\n",
       "Name: Date, Length: 30557, dtype: object"
      ]
     },
     "execution_count": 20,
     "metadata": {},
     "output_type": "execute_result"
    }
   ],
   "source": [
    "new_train[\"Date\"].str.split(\"-\")"
   ]
  },
  {
   "cell_type": "code",
   "execution_count": 21,
   "id": "0c207785-ed4d-4041-acd5-f17c76364c2f",
   "metadata": {},
   "outputs": [
    {
     "data": {
      "text/plain": [
       "Place_ID\n",
       "010Q650    94\n",
       "JSXAVKO    94\n",
       "I5RGE5G    94\n",
       "I6718VY    94\n",
       "I6VIR8R    94\n",
       "           ..\n",
       "LKE9VQB    41\n",
       "S91MBTB    29\n",
       "6KAHP8X    12\n",
       "MJSB8K5     7\n",
       "5IUK9TG     3\n",
       "Name: count, Length: 340, dtype: int64"
      ]
     },
     "execution_count": 21,
     "metadata": {},
     "output_type": "execute_result"
    }
   ],
   "source": [
    "new_train.Place_ID.value_counts()"
   ]
  },
  {
   "cell_type": "markdown",
   "id": "59b43980-3b2d-4c88-921e-eff9f10cea3f",
   "metadata": {},
   "source": [
    "## Function to extract Date columns and label encode Place_ID"
   ]
  },
  {
   "cell_type": "code",
   "execution_count": 22,
   "id": "90beedd4-64e4-438b-adfe-539d648003e5",
   "metadata": {},
   "outputs": [],
   "source": [
    "from sklearn.preprocessing import LabelEncoder\n",
    "\n",
    "def baseline_clean(df):\n",
    "    drops = [\"L3_CH4_solar_zenith_angle\", \"L3_CH4_solar_azimuth_angle\", \"L3_CH4_sensor_zenith_angle\",\"L3_CH4_sensor_zenith_angle\", \\\n",
    "             \"L3_CH4_sensor_azimuth_angle\", \"L3_CH4_aerosol_optical_depth\", \"L3_CH4_aerosol_height\", \"L3_CH4_CH4_column_volume_mixing_ratio_dry_air\"]\n",
    "    \n",
    "    df = df.drop(drops , axis = 1)\n",
    "    df[[\"year\", \"month\", \"date\"]] = df[\"Date\"].str.split(\"-\", expand = True)\n",
    "    df[[\"year\", \"month\", \"date\"]] = df[[\"year\", \"month\", \"date\"]].apply(pd.to_numeric)\n",
    "\n",
    "    lb_Encoder = LabelEncoder()\n",
    "    lb_Encoder.fit(df[\"Place_ID\"])\n",
    "\n",
    "    df[\"Encoded_PlaceID\"] = lb_Encoder.transform(df[\"Place_ID\"])\n",
    "    df = df.drop(columns = [\"Place_ID\", \"Date\"])\n",
    "    \n",
    "    return df"
   ]
  },
  {
   "cell_type": "markdown",
   "id": "e5fd3692-c9c4-447a-b7e6-ea99790491a1",
   "metadata": {},
   "source": [
    "## Function at work "
   ]
  },
  {
   "cell_type": "code",
   "execution_count": 23,
   "id": "268c378a-cb34-4131-9ce4-533ba444833f",
   "metadata": {},
   "outputs": [],
   "source": [
    "train_df = baseline_clean(train)"
   ]
  },
  {
   "cell_type": "code",
   "execution_count": 24,
   "id": "4cc57559-9665-4dc8-ace4-be0baeca8266",
   "metadata": {},
   "outputs": [
    {
     "data": {
      "text/plain": [
       "(30557, 77)"
      ]
     },
     "execution_count": 24,
     "metadata": {},
     "output_type": "execute_result"
    }
   ],
   "source": [
    "train_df.shape"
   ]
  },
  {
   "cell_type": "code",
   "execution_count": 25,
   "id": "2b3725f7-0a77-4636-81af-eb9a819e2b91",
   "metadata": {},
   "outputs": [
    {
     "data": {
      "text/plain": [
       "0          0\n",
       "1          0\n",
       "2          0\n",
       "3          0\n",
       "4          0\n",
       "        ... \n",
       "30552    339\n",
       "30553    339\n",
       "30554    339\n",
       "30555    339\n",
       "30556    339\n",
       "Name: Encoded_PlaceID, Length: 30557, dtype: int64"
      ]
     },
     "execution_count": 25,
     "metadata": {},
     "output_type": "execute_result"
    }
   ],
   "source": [
    "train_df[\"Encoded_PlaceID\"]"
   ]
  },
  {
   "cell_type": "code",
   "execution_count": 26,
   "id": "35809750-6459-4fa5-8af0-e0d5247543fa",
   "metadata": {},
   "outputs": [
    {
     "data": {
      "text/plain": [
       "Place_ID X Date    object\n",
       "dtype: object"
      ]
     },
     "execution_count": 26,
     "metadata": {},
     "output_type": "execute_result"
    }
   ],
   "source": [
    "train_df.dtypes[train_df.dtypes == \"object\"]"
   ]
  },
  {
   "cell_type": "code",
   "execution_count": 27,
   "id": "44b5eb52-b2ed-4c71-9f1d-c57e339f0e10",
   "metadata": {},
   "outputs": [
    {
     "name": "stdout",
     "output_type": "stream",
     "text": [
      "['target', 'target_min', 'target_max', 'target_variance', 'target_count']\n"
     ]
    }
   ],
   "source": [
    "print(diff)"
   ]
  },
  {
   "cell_type": "markdown",
   "id": "fba50068-d527-403b-bbad-f379a19f7f78",
   "metadata": {},
   "source": [
    "## Using `KNNImputer` to impute missing numerical values"
   ]
  },
  {
   "cell_type": "code",
   "execution_count": 28,
   "id": "b26687ca-86f5-4a0f-95f5-909a98985397",
   "metadata": {},
   "outputs": [
    {
     "data": {
      "text/plain": [
       "array([[1.10000000e+01, 6.02000008e+01, 8.03999975e-03, ...,\n",
       "        1.00000000e+00, 2.00000000e+00, 0.00000000e+00],\n",
       "       [1.46000004e+01, 4.87999992e+01, 8.39000009e-03, ...,\n",
       "        1.00000000e+00, 3.00000000e+00, 0.00000000e+00],\n",
       "       [1.63999996e+01, 3.34000015e+01, 7.49999983e-03, ...,\n",
       "        1.00000000e+00, 4.00000000e+00, 0.00000000e+00],\n",
       "       ...,\n",
       "       [7.09999990e+00, 6.85000000e+01, 3.55999987e-03, ...,\n",
       "        3.00000000e+00, 1.70000000e+01, 3.39000000e+02],\n",
       "       [1.91000004e+01, 6.63000031e+01, 5.22999978e-03, ...,\n",
       "        3.00000000e+00, 1.80000000e+01, 3.39000000e+02],\n",
       "       [1.16000004e+01, 6.84000015e+01, 4.85999975e-03, ...,\n",
       "        3.00000000e+00, 1.90000000e+01, 3.39000000e+02]])"
      ]
     },
     "execution_count": 28,
     "metadata": {},
     "output_type": "execute_result"
    }
   ],
   "source": [
    "from sklearn.impute import KNNImputer\n",
    "\n",
    "train_targets = train_df[diff]\n",
    "train_df = train_df.drop(columns = [\"Place_ID X Date\", \"target\",\"target_min\", \"target_max\", \"target_variance\",\"target_count\"])\n",
    "\n",
    "imputer = KNNImputer(n_neighbors = 5)\n",
    "\n",
    "train_impute = imputer.fit_transform(train_df)\n",
    "\n",
    "train_impute"
   ]
  },
  {
   "cell_type": "code",
   "execution_count": 29,
   "id": "001ec363-a7b1-41ca-827d-5daff74f5997",
   "metadata": {},
   "outputs": [
    {
     "data": {
      "text/plain": [
       "(30557, 71)"
      ]
     },
     "execution_count": 29,
     "metadata": {},
     "output_type": "execute_result"
    }
   ],
   "source": [
    "train_df.shape"
   ]
  },
  {
   "cell_type": "code",
   "execution_count": 30,
   "id": "29ac3888-3b36-4cb9-920e-9c0a06da0dfc",
   "metadata": {},
   "outputs": [
    {
     "data": {
      "text/html": [
       "<div>\n",
       "<style scoped>\n",
       "    .dataframe tbody tr th:only-of-type {\n",
       "        vertical-align: middle;\n",
       "    }\n",
       "\n",
       "    .dataframe tbody tr th {\n",
       "        vertical-align: top;\n",
       "    }\n",
       "\n",
       "    .dataframe thead th {\n",
       "        text-align: right;\n",
       "    }\n",
       "</style>\n",
       "<table border=\"1\" class=\"dataframe\">\n",
       "  <thead>\n",
       "    <tr style=\"text-align: right;\">\n",
       "      <th></th>\n",
       "      <th>precipitable_water_entire_atmosphere</th>\n",
       "      <th>relative_humidity_2m_above_ground</th>\n",
       "      <th>specific_humidity_2m_above_ground</th>\n",
       "      <th>temperature_2m_above_ground</th>\n",
       "      <th>u_component_of_wind_10m_above_ground</th>\n",
       "      <th>v_component_of_wind_10m_above_ground</th>\n",
       "      <th>L3_NO2_NO2_column_number_density</th>\n",
       "      <th>L3_NO2_NO2_slant_column_number_density</th>\n",
       "      <th>L3_NO2_absorbing_aerosol_index</th>\n",
       "      <th>L3_NO2_cloud_fraction</th>\n",
       "      <th>...</th>\n",
       "      <th>L3_SO2_absorbing_aerosol_index</th>\n",
       "      <th>L3_SO2_cloud_fraction</th>\n",
       "      <th>L3_SO2_sensor_azimuth_angle</th>\n",
       "      <th>L3_SO2_sensor_zenith_angle</th>\n",
       "      <th>L3_SO2_solar_azimuth_angle</th>\n",
       "      <th>L3_SO2_solar_zenith_angle</th>\n",
       "      <th>year</th>\n",
       "      <th>month</th>\n",
       "      <th>date</th>\n",
       "      <th>Encoded_PlaceID</th>\n",
       "    </tr>\n",
       "  </thead>\n",
       "  <tbody>\n",
       "    <tr>\n",
       "      <th>0</th>\n",
       "      <td>11.000000</td>\n",
       "      <td>60.200001</td>\n",
       "      <td>0.00804</td>\n",
       "      <td>18.516840</td>\n",
       "      <td>1.996377</td>\n",
       "      <td>-1.227395</td>\n",
       "      <td>0.000074</td>\n",
       "      <td>0.000156</td>\n",
       "      <td>-1.231330</td>\n",
       "      <td>0.006507</td>\n",
       "      <td>...</td>\n",
       "      <td>-1.861476</td>\n",
       "      <td>0.000000</td>\n",
       "      <td>76.536426</td>\n",
       "      <td>38.593017</td>\n",
       "      <td>-61.752587</td>\n",
       "      <td>22.363665</td>\n",
       "      <td>2020.0</td>\n",
       "      <td>1.0</td>\n",
       "      <td>2.0</td>\n",
       "      <td>0.0</td>\n",
       "    </tr>\n",
       "    <tr>\n",
       "      <th>1</th>\n",
       "      <td>14.600000</td>\n",
       "      <td>48.799999</td>\n",
       "      <td>0.00839</td>\n",
       "      <td>22.546533</td>\n",
       "      <td>3.330430</td>\n",
       "      <td>-1.188108</td>\n",
       "      <td>0.000076</td>\n",
       "      <td>0.000197</td>\n",
       "      <td>-1.082553</td>\n",
       "      <td>0.018360</td>\n",
       "      <td>...</td>\n",
       "      <td>-1.452612</td>\n",
       "      <td>0.059433</td>\n",
       "      <td>-14.708036</td>\n",
       "      <td>59.624912</td>\n",
       "      <td>-67.693509</td>\n",
       "      <td>28.614804</td>\n",
       "      <td>2020.0</td>\n",
       "      <td>1.0</td>\n",
       "      <td>3.0</td>\n",
       "      <td>0.0</td>\n",
       "    </tr>\n",
       "    <tr>\n",
       "      <th>2</th>\n",
       "      <td>16.400000</td>\n",
       "      <td>33.400002</td>\n",
       "      <td>0.00750</td>\n",
       "      <td>27.031030</td>\n",
       "      <td>5.065727</td>\n",
       "      <td>3.500559</td>\n",
       "      <td>0.000067</td>\n",
       "      <td>0.000170</td>\n",
       "      <td>-1.001242</td>\n",
       "      <td>0.015904</td>\n",
       "      <td>...</td>\n",
       "      <td>-1.572950</td>\n",
       "      <td>0.082063</td>\n",
       "      <td>-105.201338</td>\n",
       "      <td>49.839714</td>\n",
       "      <td>-78.342701</td>\n",
       "      <td>34.296977</td>\n",
       "      <td>2020.0</td>\n",
       "      <td>1.0</td>\n",
       "      <td>4.0</td>\n",
       "      <td>0.0</td>\n",
       "    </tr>\n",
       "    <tr>\n",
       "      <th>3</th>\n",
       "      <td>6.911948</td>\n",
       "      <td>21.300001</td>\n",
       "      <td>0.00391</td>\n",
       "      <td>23.971857</td>\n",
       "      <td>3.004001</td>\n",
       "      <td>1.099468</td>\n",
       "      <td>0.000083</td>\n",
       "      <td>0.000175</td>\n",
       "      <td>-0.777019</td>\n",
       "      <td>0.055765</td>\n",
       "      <td>...</td>\n",
       "      <td>-1.239317</td>\n",
       "      <td>0.121261</td>\n",
       "      <td>-104.334066</td>\n",
       "      <td>29.181258</td>\n",
       "      <td>-73.896588</td>\n",
       "      <td>30.545446</td>\n",
       "      <td>2020.0</td>\n",
       "      <td>1.0</td>\n",
       "      <td>5.0</td>\n",
       "      <td>0.0</td>\n",
       "    </tr>\n",
       "    <tr>\n",
       "      <th>4</th>\n",
       "      <td>13.900001</td>\n",
       "      <td>44.700001</td>\n",
       "      <td>0.00535</td>\n",
       "      <td>16.816309</td>\n",
       "      <td>2.621787</td>\n",
       "      <td>2.670559</td>\n",
       "      <td>0.000070</td>\n",
       "      <td>0.000142</td>\n",
       "      <td>0.366323</td>\n",
       "      <td>0.028530</td>\n",
       "      <td>...</td>\n",
       "      <td>0.202489</td>\n",
       "      <td>0.037919</td>\n",
       "      <td>58.850179</td>\n",
       "      <td>0.797294</td>\n",
       "      <td>-68.612480</td>\n",
       "      <td>26.899694</td>\n",
       "      <td>2020.0</td>\n",
       "      <td>1.0</td>\n",
       "      <td>6.0</td>\n",
       "      <td>0.0</td>\n",
       "    </tr>\n",
       "  </tbody>\n",
       "</table>\n",
       "<p>5 rows × 71 columns</p>\n",
       "</div>"
      ],
      "text/plain": [
       "   precipitable_water_entire_atmosphere  relative_humidity_2m_above_ground  \\\n",
       "0                             11.000000                          60.200001   \n",
       "1                             14.600000                          48.799999   \n",
       "2                             16.400000                          33.400002   \n",
       "3                              6.911948                          21.300001   \n",
       "4                             13.900001                          44.700001   \n",
       "\n",
       "   specific_humidity_2m_above_ground  temperature_2m_above_ground  \\\n",
       "0                            0.00804                    18.516840   \n",
       "1                            0.00839                    22.546533   \n",
       "2                            0.00750                    27.031030   \n",
       "3                            0.00391                    23.971857   \n",
       "4                            0.00535                    16.816309   \n",
       "\n",
       "   u_component_of_wind_10m_above_ground  v_component_of_wind_10m_above_ground  \\\n",
       "0                              1.996377                             -1.227395   \n",
       "1                              3.330430                             -1.188108   \n",
       "2                              5.065727                              3.500559   \n",
       "3                              3.004001                              1.099468   \n",
       "4                              2.621787                              2.670559   \n",
       "\n",
       "   L3_NO2_NO2_column_number_density  L3_NO2_NO2_slant_column_number_density  \\\n",
       "0                          0.000074                                0.000156   \n",
       "1                          0.000076                                0.000197   \n",
       "2                          0.000067                                0.000170   \n",
       "3                          0.000083                                0.000175   \n",
       "4                          0.000070                                0.000142   \n",
       "\n",
       "   L3_NO2_absorbing_aerosol_index  L3_NO2_cloud_fraction  ...  \\\n",
       "0                       -1.231330               0.006507  ...   \n",
       "1                       -1.082553               0.018360  ...   \n",
       "2                       -1.001242               0.015904  ...   \n",
       "3                       -0.777019               0.055765  ...   \n",
       "4                        0.366323               0.028530  ...   \n",
       "\n",
       "   L3_SO2_absorbing_aerosol_index  L3_SO2_cloud_fraction  \\\n",
       "0                       -1.861476               0.000000   \n",
       "1                       -1.452612               0.059433   \n",
       "2                       -1.572950               0.082063   \n",
       "3                       -1.239317               0.121261   \n",
       "4                        0.202489               0.037919   \n",
       "\n",
       "   L3_SO2_sensor_azimuth_angle  L3_SO2_sensor_zenith_angle  \\\n",
       "0                    76.536426                   38.593017   \n",
       "1                   -14.708036                   59.624912   \n",
       "2                  -105.201338                   49.839714   \n",
       "3                  -104.334066                   29.181258   \n",
       "4                    58.850179                    0.797294   \n",
       "\n",
       "   L3_SO2_solar_azimuth_angle  L3_SO2_solar_zenith_angle    year  month  date  \\\n",
       "0                  -61.752587                  22.363665  2020.0    1.0   2.0   \n",
       "1                  -67.693509                  28.614804  2020.0    1.0   3.0   \n",
       "2                  -78.342701                  34.296977  2020.0    1.0   4.0   \n",
       "3                  -73.896588                  30.545446  2020.0    1.0   5.0   \n",
       "4                  -68.612480                  26.899694  2020.0    1.0   6.0   \n",
       "\n",
       "   Encoded_PlaceID  \n",
       "0              0.0  \n",
       "1              0.0  \n",
       "2              0.0  \n",
       "3              0.0  \n",
       "4              0.0  \n",
       "\n",
       "[5 rows x 71 columns]"
      ]
     },
     "execution_count": 30,
     "metadata": {},
     "output_type": "execute_result"
    }
   ],
   "source": [
    "train_imputed = pd.DataFrame(train_impute, columns = train_df.columns)\n",
    "\n",
    "train_imputed.head()"
   ]
  },
  {
   "cell_type": "markdown",
   "id": "8b81cfca-5da9-4cc1-95ea-9362ac10f5ac",
   "metadata": {},
   "source": [
    "## Test"
   ]
  },
  {
   "cell_type": "code",
   "execution_count": 32,
   "id": "e931f130-7c4d-44b4-9afb-874511040681",
   "metadata": {},
   "outputs": [
    {
     "data": {
      "text/html": [
       "<div>\n",
       "<style scoped>\n",
       "    .dataframe tbody tr th:only-of-type {\n",
       "        vertical-align: middle;\n",
       "    }\n",
       "\n",
       "    .dataframe tbody tr th {\n",
       "        vertical-align: top;\n",
       "    }\n",
       "\n",
       "    .dataframe thead th {\n",
       "        text-align: right;\n",
       "    }\n",
       "</style>\n",
       "<table border=\"1\" class=\"dataframe\">\n",
       "  <thead>\n",
       "    <tr style=\"text-align: right;\">\n",
       "      <th></th>\n",
       "      <th>Place_ID X Date</th>\n",
       "      <th>Date</th>\n",
       "      <th>Place_ID</th>\n",
       "      <th>precipitable_water_entire_atmosphere</th>\n",
       "      <th>relative_humidity_2m_above_ground</th>\n",
       "      <th>specific_humidity_2m_above_ground</th>\n",
       "      <th>temperature_2m_above_ground</th>\n",
       "      <th>u_component_of_wind_10m_above_ground</th>\n",
       "      <th>v_component_of_wind_10m_above_ground</th>\n",
       "      <th>L3_NO2_NO2_column_number_density</th>\n",
       "      <th>...</th>\n",
       "      <th>L3_SO2_sensor_zenith_angle</th>\n",
       "      <th>L3_SO2_solar_azimuth_angle</th>\n",
       "      <th>L3_SO2_solar_zenith_angle</th>\n",
       "      <th>L3_CH4_CH4_column_volume_mixing_ratio_dry_air</th>\n",
       "      <th>L3_CH4_aerosol_height</th>\n",
       "      <th>L3_CH4_aerosol_optical_depth</th>\n",
       "      <th>L3_CH4_sensor_azimuth_angle</th>\n",
       "      <th>L3_CH4_sensor_zenith_angle</th>\n",
       "      <th>L3_CH4_solar_azimuth_angle</th>\n",
       "      <th>L3_CH4_solar_zenith_angle</th>\n",
       "    </tr>\n",
       "  </thead>\n",
       "  <tbody>\n",
       "    <tr>\n",
       "      <th>0</th>\n",
       "      <td>0OS9LVX X 2020-01-02</td>\n",
       "      <td>2020-01-02</td>\n",
       "      <td>0OS9LVX</td>\n",
       "      <td>11.600000</td>\n",
       "      <td>30.200001</td>\n",
       "      <td>0.00409</td>\n",
       "      <td>14.656824</td>\n",
       "      <td>3.956377</td>\n",
       "      <td>0.712605</td>\n",
       "      <td>0.000053</td>\n",
       "      <td>...</td>\n",
       "      <td>1.445658</td>\n",
       "      <td>-95.984984</td>\n",
       "      <td>22.942019</td>\n",
       "      <td>NaN</td>\n",
       "      <td>NaN</td>\n",
       "      <td>NaN</td>\n",
       "      <td>NaN</td>\n",
       "      <td>NaN</td>\n",
       "      <td>NaN</td>\n",
       "      <td>NaN</td>\n",
       "    </tr>\n",
       "    <tr>\n",
       "      <th>1</th>\n",
       "      <td>0OS9LVX X 2020-01-03</td>\n",
       "      <td>2020-01-03</td>\n",
       "      <td>0OS9LVX</td>\n",
       "      <td>18.300001</td>\n",
       "      <td>42.900002</td>\n",
       "      <td>0.00595</td>\n",
       "      <td>15.026544</td>\n",
       "      <td>4.230430</td>\n",
       "      <td>0.661892</td>\n",
       "      <td>0.000050</td>\n",
       "      <td>...</td>\n",
       "      <td>34.641758</td>\n",
       "      <td>-95.014908</td>\n",
       "      <td>18.539116</td>\n",
       "      <td>NaN</td>\n",
       "      <td>NaN</td>\n",
       "      <td>NaN</td>\n",
       "      <td>NaN</td>\n",
       "      <td>NaN</td>\n",
       "      <td>NaN</td>\n",
       "      <td>NaN</td>\n",
       "    </tr>\n",
       "    <tr>\n",
       "      <th>2</th>\n",
       "      <td>0OS9LVX X 2020-01-04</td>\n",
       "      <td>2020-01-04</td>\n",
       "      <td>0OS9LVX</td>\n",
       "      <td>17.600000</td>\n",
       "      <td>41.299999</td>\n",
       "      <td>0.00590</td>\n",
       "      <td>15.511041</td>\n",
       "      <td>5.245728</td>\n",
       "      <td>1.640559</td>\n",
       "      <td>0.000050</td>\n",
       "      <td>...</td>\n",
       "      <td>55.872276</td>\n",
       "      <td>-94.015418</td>\n",
       "      <td>14.140820</td>\n",
       "      <td>NaN</td>\n",
       "      <td>NaN</td>\n",
       "      <td>NaN</td>\n",
       "      <td>NaN</td>\n",
       "      <td>NaN</td>\n",
       "      <td>NaN</td>\n",
       "      <td>NaN</td>\n",
       "    </tr>\n",
       "    <tr>\n",
       "      <th>3</th>\n",
       "      <td>0OS9LVX X 2020-01-05</td>\n",
       "      <td>2020-01-05</td>\n",
       "      <td>0OS9LVX</td>\n",
       "      <td>15.011948</td>\n",
       "      <td>53.100002</td>\n",
       "      <td>0.00709</td>\n",
       "      <td>14.441858</td>\n",
       "      <td>5.454001</td>\n",
       "      <td>-0.190532</td>\n",
       "      <td>0.000055</td>\n",
       "      <td>...</td>\n",
       "      <td>59.174188</td>\n",
       "      <td>-97.247602</td>\n",
       "      <td>32.730553</td>\n",
       "      <td>NaN</td>\n",
       "      <td>NaN</td>\n",
       "      <td>NaN</td>\n",
       "      <td>NaN</td>\n",
       "      <td>NaN</td>\n",
       "      <td>NaN</td>\n",
       "      <td>NaN</td>\n",
       "    </tr>\n",
       "    <tr>\n",
       "      <th>4</th>\n",
       "      <td>0OS9LVX X 2020-01-06</td>\n",
       "      <td>2020-01-06</td>\n",
       "      <td>0OS9LVX</td>\n",
       "      <td>9.700000</td>\n",
       "      <td>71.599998</td>\n",
       "      <td>0.00808</td>\n",
       "      <td>11.896295</td>\n",
       "      <td>3.511787</td>\n",
       "      <td>-0.279441</td>\n",
       "      <td>0.000055</td>\n",
       "      <td>...</td>\n",
       "      <td>40.925873</td>\n",
       "      <td>-96.057265</td>\n",
       "      <td>28.320527</td>\n",
       "      <td>1831.261597</td>\n",
       "      <td>3229.118652</td>\n",
       "      <td>0.031068</td>\n",
       "      <td>-100.278343</td>\n",
       "      <td>41.84708</td>\n",
       "      <td>-95.910744</td>\n",
       "      <td>28.498789</td>\n",
       "    </tr>\n",
       "  </tbody>\n",
       "</table>\n",
       "<p>5 rows × 77 columns</p>\n",
       "</div>"
      ],
      "text/plain": [
       "        Place_ID X Date        Date Place_ID  \\\n",
       "0  0OS9LVX X 2020-01-02  2020-01-02  0OS9LVX   \n",
       "1  0OS9LVX X 2020-01-03  2020-01-03  0OS9LVX   \n",
       "2  0OS9LVX X 2020-01-04  2020-01-04  0OS9LVX   \n",
       "3  0OS9LVX X 2020-01-05  2020-01-05  0OS9LVX   \n",
       "4  0OS9LVX X 2020-01-06  2020-01-06  0OS9LVX   \n",
       "\n",
       "   precipitable_water_entire_atmosphere  relative_humidity_2m_above_ground  \\\n",
       "0                             11.600000                          30.200001   \n",
       "1                             18.300001                          42.900002   \n",
       "2                             17.600000                          41.299999   \n",
       "3                             15.011948                          53.100002   \n",
       "4                              9.700000                          71.599998   \n",
       "\n",
       "   specific_humidity_2m_above_ground  temperature_2m_above_ground  \\\n",
       "0                            0.00409                    14.656824   \n",
       "1                            0.00595                    15.026544   \n",
       "2                            0.00590                    15.511041   \n",
       "3                            0.00709                    14.441858   \n",
       "4                            0.00808                    11.896295   \n",
       "\n",
       "   u_component_of_wind_10m_above_ground  v_component_of_wind_10m_above_ground  \\\n",
       "0                              3.956377                              0.712605   \n",
       "1                              4.230430                              0.661892   \n",
       "2                              5.245728                              1.640559   \n",
       "3                              5.454001                             -0.190532   \n",
       "4                              3.511787                             -0.279441   \n",
       "\n",
       "   L3_NO2_NO2_column_number_density  ...  L3_SO2_sensor_zenith_angle  \\\n",
       "0                          0.000053  ...                    1.445658   \n",
       "1                          0.000050  ...                   34.641758   \n",
       "2                          0.000050  ...                   55.872276   \n",
       "3                          0.000055  ...                   59.174188   \n",
       "4                          0.000055  ...                   40.925873   \n",
       "\n",
       "   L3_SO2_solar_azimuth_angle  L3_SO2_solar_zenith_angle  \\\n",
       "0                  -95.984984                  22.942019   \n",
       "1                  -95.014908                  18.539116   \n",
       "2                  -94.015418                  14.140820   \n",
       "3                  -97.247602                  32.730553   \n",
       "4                  -96.057265                  28.320527   \n",
       "\n",
       "   L3_CH4_CH4_column_volume_mixing_ratio_dry_air  L3_CH4_aerosol_height  \\\n",
       "0                                            NaN                    NaN   \n",
       "1                                            NaN                    NaN   \n",
       "2                                            NaN                    NaN   \n",
       "3                                            NaN                    NaN   \n",
       "4                                    1831.261597            3229.118652   \n",
       "\n",
       "   L3_CH4_aerosol_optical_depth  L3_CH4_sensor_azimuth_angle  \\\n",
       "0                           NaN                          NaN   \n",
       "1                           NaN                          NaN   \n",
       "2                           NaN                          NaN   \n",
       "3                           NaN                          NaN   \n",
       "4                      0.031068                  -100.278343   \n",
       "\n",
       "   L3_CH4_sensor_zenith_angle  L3_CH4_solar_azimuth_angle  \\\n",
       "0                         NaN                         NaN   \n",
       "1                         NaN                         NaN   \n",
       "2                         NaN                         NaN   \n",
       "3                         NaN                         NaN   \n",
       "4                    41.84708                  -95.910744   \n",
       "\n",
       "   L3_CH4_solar_zenith_angle  \n",
       "0                        NaN  \n",
       "1                        NaN  \n",
       "2                        NaN  \n",
       "3                        NaN  \n",
       "4                  28.498789  \n",
       "\n",
       "[5 rows x 77 columns]"
      ]
     },
     "execution_count": 32,
     "metadata": {},
     "output_type": "execute_result"
    }
   ],
   "source": [
    "test.head()"
   ]
  },
  {
   "cell_type": "code",
   "execution_count": 33,
   "id": "034e205f-9022-4d95-bcc8-9186c13b8c52",
   "metadata": {},
   "outputs": [
    {
     "data": {
      "text/html": [
       "<div>\n",
       "<style scoped>\n",
       "    .dataframe tbody tr th:only-of-type {\n",
       "        vertical-align: middle;\n",
       "    }\n",
       "\n",
       "    .dataframe tbody tr th {\n",
       "        vertical-align: top;\n",
       "    }\n",
       "\n",
       "    .dataframe thead th {\n",
       "        text-align: right;\n",
       "    }\n",
       "</style>\n",
       "<table border=\"1\" class=\"dataframe\">\n",
       "  <thead>\n",
       "    <tr style=\"text-align: right;\">\n",
       "      <th></th>\n",
       "      <th>Place_ID X Date</th>\n",
       "      <th>precipitable_water_entire_atmosphere</th>\n",
       "      <th>relative_humidity_2m_above_ground</th>\n",
       "      <th>specific_humidity_2m_above_ground</th>\n",
       "      <th>temperature_2m_above_ground</th>\n",
       "      <th>u_component_of_wind_10m_above_ground</th>\n",
       "      <th>v_component_of_wind_10m_above_ground</th>\n",
       "      <th>L3_NO2_NO2_column_number_density</th>\n",
       "      <th>L3_NO2_NO2_slant_column_number_density</th>\n",
       "      <th>L3_NO2_absorbing_aerosol_index</th>\n",
       "      <th>...</th>\n",
       "      <th>L3_SO2_absorbing_aerosol_index</th>\n",
       "      <th>L3_SO2_cloud_fraction</th>\n",
       "      <th>L3_SO2_sensor_azimuth_angle</th>\n",
       "      <th>L3_SO2_sensor_zenith_angle</th>\n",
       "      <th>L3_SO2_solar_azimuth_angle</th>\n",
       "      <th>L3_SO2_solar_zenith_angle</th>\n",
       "      <th>year</th>\n",
       "      <th>month</th>\n",
       "      <th>date</th>\n",
       "      <th>Encoded_PlaceID</th>\n",
       "    </tr>\n",
       "  </thead>\n",
       "  <tbody>\n",
       "    <tr>\n",
       "      <th>0</th>\n",
       "      <td>0OS9LVX X 2020-01-02</td>\n",
       "      <td>11.600000</td>\n",
       "      <td>30.200001</td>\n",
       "      <td>0.00409</td>\n",
       "      <td>14.656824</td>\n",
       "      <td>3.956377</td>\n",
       "      <td>0.712605</td>\n",
       "      <td>0.000053</td>\n",
       "      <td>0.000108</td>\n",
       "      <td>0.466171</td>\n",
       "      <td>...</td>\n",
       "      <td>-0.140458</td>\n",
       "      <td>0.032071</td>\n",
       "      <td>68.099367</td>\n",
       "      <td>1.445658</td>\n",
       "      <td>-95.984984</td>\n",
       "      <td>22.942019</td>\n",
       "      <td>2020</td>\n",
       "      <td>1</td>\n",
       "      <td>2</td>\n",
       "      <td>0</td>\n",
       "    </tr>\n",
       "    <tr>\n",
       "      <th>1</th>\n",
       "      <td>0OS9LVX X 2020-01-03</td>\n",
       "      <td>18.300001</td>\n",
       "      <td>42.900002</td>\n",
       "      <td>0.00595</td>\n",
       "      <td>15.026544</td>\n",
       "      <td>4.230430</td>\n",
       "      <td>0.661892</td>\n",
       "      <td>0.000050</td>\n",
       "      <td>0.000109</td>\n",
       "      <td>-0.213659</td>\n",
       "      <td>...</td>\n",
       "      <td>-0.842713</td>\n",
       "      <td>0.040803</td>\n",
       "      <td>75.936813</td>\n",
       "      <td>34.641758</td>\n",
       "      <td>-95.014908</td>\n",
       "      <td>18.539116</td>\n",
       "      <td>2020</td>\n",
       "      <td>1</td>\n",
       "      <td>3</td>\n",
       "      <td>0</td>\n",
       "    </tr>\n",
       "    <tr>\n",
       "      <th>2</th>\n",
       "      <td>0OS9LVX X 2020-01-04</td>\n",
       "      <td>17.600000</td>\n",
       "      <td>41.299999</td>\n",
       "      <td>0.00590</td>\n",
       "      <td>15.511041</td>\n",
       "      <td>5.245728</td>\n",
       "      <td>1.640559</td>\n",
       "      <td>0.000050</td>\n",
       "      <td>0.000134</td>\n",
       "      <td>-0.254250</td>\n",
       "      <td>...</td>\n",
       "      <td>-0.716770</td>\n",
       "      <td>0.007113</td>\n",
       "      <td>75.552445</td>\n",
       "      <td>55.872276</td>\n",
       "      <td>-94.015418</td>\n",
       "      <td>14.140820</td>\n",
       "      <td>2020</td>\n",
       "      <td>1</td>\n",
       "      <td>4</td>\n",
       "      <td>0</td>\n",
       "    </tr>\n",
       "    <tr>\n",
       "      <th>3</th>\n",
       "      <td>0OS9LVX X 2020-01-05</td>\n",
       "      <td>15.011948</td>\n",
       "      <td>53.100002</td>\n",
       "      <td>0.00709</td>\n",
       "      <td>14.441858</td>\n",
       "      <td>5.454001</td>\n",
       "      <td>-0.190532</td>\n",
       "      <td>0.000055</td>\n",
       "      <td>0.000155</td>\n",
       "      <td>-0.268490</td>\n",
       "      <td>...</td>\n",
       "      <td>-0.730104</td>\n",
       "      <td>0.062076</td>\n",
       "      <td>-102.285125</td>\n",
       "      <td>59.174188</td>\n",
       "      <td>-97.247602</td>\n",
       "      <td>32.730553</td>\n",
       "      <td>2020</td>\n",
       "      <td>1</td>\n",
       "      <td>5</td>\n",
       "      <td>0</td>\n",
       "    </tr>\n",
       "    <tr>\n",
       "      <th>4</th>\n",
       "      <td>0OS9LVX X 2020-01-06</td>\n",
       "      <td>9.700000</td>\n",
       "      <td>71.599998</td>\n",
       "      <td>0.00808</td>\n",
       "      <td>11.896295</td>\n",
       "      <td>3.511787</td>\n",
       "      <td>-0.279441</td>\n",
       "      <td>0.000055</td>\n",
       "      <td>0.000131</td>\n",
       "      <td>0.460720</td>\n",
       "      <td>...</td>\n",
       "      <td>-0.108353</td>\n",
       "      <td>0.042777</td>\n",
       "      <td>-102.133957</td>\n",
       "      <td>40.925873</td>\n",
       "      <td>-96.057265</td>\n",
       "      <td>28.320527</td>\n",
       "      <td>2020</td>\n",
       "      <td>1</td>\n",
       "      <td>6</td>\n",
       "      <td>0</td>\n",
       "    </tr>\n",
       "  </tbody>\n",
       "</table>\n",
       "<p>5 rows × 72 columns</p>\n",
       "</div>"
      ],
      "text/plain": [
       "        Place_ID X Date  precipitable_water_entire_atmosphere  \\\n",
       "0  0OS9LVX X 2020-01-02                             11.600000   \n",
       "1  0OS9LVX X 2020-01-03                             18.300001   \n",
       "2  0OS9LVX X 2020-01-04                             17.600000   \n",
       "3  0OS9LVX X 2020-01-05                             15.011948   \n",
       "4  0OS9LVX X 2020-01-06                              9.700000   \n",
       "\n",
       "   relative_humidity_2m_above_ground  specific_humidity_2m_above_ground  \\\n",
       "0                          30.200001                            0.00409   \n",
       "1                          42.900002                            0.00595   \n",
       "2                          41.299999                            0.00590   \n",
       "3                          53.100002                            0.00709   \n",
       "4                          71.599998                            0.00808   \n",
       "\n",
       "   temperature_2m_above_ground  u_component_of_wind_10m_above_ground  \\\n",
       "0                    14.656824                              3.956377   \n",
       "1                    15.026544                              4.230430   \n",
       "2                    15.511041                              5.245728   \n",
       "3                    14.441858                              5.454001   \n",
       "4                    11.896295                              3.511787   \n",
       "\n",
       "   v_component_of_wind_10m_above_ground  L3_NO2_NO2_column_number_density  \\\n",
       "0                              0.712605                          0.000053   \n",
       "1                              0.661892                          0.000050   \n",
       "2                              1.640559                          0.000050   \n",
       "3                             -0.190532                          0.000055   \n",
       "4                             -0.279441                          0.000055   \n",
       "\n",
       "   L3_NO2_NO2_slant_column_number_density  L3_NO2_absorbing_aerosol_index  \\\n",
       "0                                0.000108                        0.466171   \n",
       "1                                0.000109                       -0.213659   \n",
       "2                                0.000134                       -0.254250   \n",
       "3                                0.000155                       -0.268490   \n",
       "4                                0.000131                        0.460720   \n",
       "\n",
       "   ...  L3_SO2_absorbing_aerosol_index  L3_SO2_cloud_fraction  \\\n",
       "0  ...                       -0.140458               0.032071   \n",
       "1  ...                       -0.842713               0.040803   \n",
       "2  ...                       -0.716770               0.007113   \n",
       "3  ...                       -0.730104               0.062076   \n",
       "4  ...                       -0.108353               0.042777   \n",
       "\n",
       "   L3_SO2_sensor_azimuth_angle  L3_SO2_sensor_zenith_angle  \\\n",
       "0                    68.099367                    1.445658   \n",
       "1                    75.936813                   34.641758   \n",
       "2                    75.552445                   55.872276   \n",
       "3                  -102.285125                   59.174188   \n",
       "4                  -102.133957                   40.925873   \n",
       "\n",
       "   L3_SO2_solar_azimuth_angle  L3_SO2_solar_zenith_angle  year  month  date  \\\n",
       "0                  -95.984984                  22.942019  2020      1     2   \n",
       "1                  -95.014908                  18.539116  2020      1     3   \n",
       "2                  -94.015418                  14.140820  2020      1     4   \n",
       "3                  -97.247602                  32.730553  2020      1     5   \n",
       "4                  -96.057265                  28.320527  2020      1     6   \n",
       "\n",
       "   Encoded_PlaceID  \n",
       "0                0  \n",
       "1                0  \n",
       "2                0  \n",
       "3                0  \n",
       "4                0  \n",
       "\n",
       "[5 rows x 72 columns]"
      ]
     },
     "execution_count": 33,
     "metadata": {},
     "output_type": "execute_result"
    }
   ],
   "source": [
    "test_df = baseline_clean(test)\n",
    "test_df.head()"
   ]
  },
  {
   "cell_type": "code",
   "execution_count": 34,
   "id": "c491de15-59bc-4ba4-ab46-5d736d5303fd",
   "metadata": {},
   "outputs": [
    {
     "data": {
      "text/plain": [
       "Place_ID X Date    object\n",
       "dtype: object"
      ]
     },
     "execution_count": 34,
     "metadata": {},
     "output_type": "execute_result"
    }
   ],
   "source": [
    "test_df.dtypes[test_df.dtypes == \"object\"]"
   ]
  },
  {
   "cell_type": "code",
   "execution_count": 35,
   "id": "fc00fcb5-1cea-4cf3-9643-139df1da04fd",
   "metadata": {},
   "outputs": [
    {
     "data": {
      "text/plain": [
       "(16136, 72)"
      ]
     },
     "execution_count": 35,
     "metadata": {},
     "output_type": "execute_result"
    }
   ],
   "source": [
    "test_df.shape"
   ]
  },
  {
   "cell_type": "code",
   "execution_count": 36,
   "id": "45f5c32d-e08e-4ed0-b5ee-d5a78e321aae",
   "metadata": {},
   "outputs": [
    {
     "data": {
      "text/plain": [
       "(16136, 71)"
      ]
     },
     "execution_count": 36,
     "metadata": {},
     "output_type": "execute_result"
    }
   ],
   "source": [
    "test_df = test_df.drop(columns = \"Place_ID X Date\")\n",
    "test_df.shape"
   ]
  },
  {
   "cell_type": "markdown",
   "id": "d641463f-903c-4609-8116-c984d707271f",
   "metadata": {},
   "source": [
    "## Imputation on Test"
   ]
  },
  {
   "cell_type": "code",
   "execution_count": 37,
   "id": "a328678f-c626-4a7b-800f-def9b055e63d",
   "metadata": {},
   "outputs": [
    {
     "data": {
      "text/plain": [
       "array([[1.16000004e+01, 3.02000008e+01, 4.08999994e-03, ...,\n",
       "        1.00000000e+00, 2.00000000e+00, 0.00000000e+00],\n",
       "       [1.83000011e+01, 4.29000015e+01, 5.94999967e-03, ...,\n",
       "        1.00000000e+00, 3.00000000e+00, 0.00000000e+00],\n",
       "       [1.76000004e+01, 4.12999992e+01, 5.89999976e-03, ...,\n",
       "        1.00000000e+00, 4.00000000e+00, 0.00000000e+00],\n",
       "       ...,\n",
       "       [1.91706409e+01, 8.62000046e+01, 6.55999966e-03, ...,\n",
       "        4.00000000e+00, 2.00000000e+00, 1.78000000e+02],\n",
       "       [8.40000057e+00, 6.64000015e+01, 4.56999987e-03, ...,\n",
       "        4.00000000e+00, 3.00000000e+00, 1.78000000e+02],\n",
       "       [6.50000000e+00, 8.15999985e+01, 5.08000003e-03, ...,\n",
       "        4.00000000e+00, 4.00000000e+00, 1.78000000e+02]])"
      ]
     },
     "execution_count": 37,
     "metadata": {},
     "output_type": "execute_result"
    }
   ],
   "source": [
    "test_impute = imputer.transform(test_df)\n",
    "\n",
    "test_impute"
   ]
  },
  {
   "cell_type": "code",
   "execution_count": 38,
   "id": "ec97cdd7-6c03-4b54-9588-f97f80188918",
   "metadata": {},
   "outputs": [
    {
     "data": {
      "text/html": [
       "<div>\n",
       "<style scoped>\n",
       "    .dataframe tbody tr th:only-of-type {\n",
       "        vertical-align: middle;\n",
       "    }\n",
       "\n",
       "    .dataframe tbody tr th {\n",
       "        vertical-align: top;\n",
       "    }\n",
       "\n",
       "    .dataframe thead th {\n",
       "        text-align: right;\n",
       "    }\n",
       "</style>\n",
       "<table border=\"1\" class=\"dataframe\">\n",
       "  <thead>\n",
       "    <tr style=\"text-align: right;\">\n",
       "      <th></th>\n",
       "      <th>precipitable_water_entire_atmosphere</th>\n",
       "      <th>relative_humidity_2m_above_ground</th>\n",
       "      <th>specific_humidity_2m_above_ground</th>\n",
       "      <th>temperature_2m_above_ground</th>\n",
       "      <th>u_component_of_wind_10m_above_ground</th>\n",
       "      <th>v_component_of_wind_10m_above_ground</th>\n",
       "      <th>L3_NO2_NO2_column_number_density</th>\n",
       "      <th>L3_NO2_NO2_slant_column_number_density</th>\n",
       "      <th>L3_NO2_absorbing_aerosol_index</th>\n",
       "      <th>L3_NO2_cloud_fraction</th>\n",
       "      <th>...</th>\n",
       "      <th>L3_SO2_absorbing_aerosol_index</th>\n",
       "      <th>L3_SO2_cloud_fraction</th>\n",
       "      <th>L3_SO2_sensor_azimuth_angle</th>\n",
       "      <th>L3_SO2_sensor_zenith_angle</th>\n",
       "      <th>L3_SO2_solar_azimuth_angle</th>\n",
       "      <th>L3_SO2_solar_zenith_angle</th>\n",
       "      <th>year</th>\n",
       "      <th>month</th>\n",
       "      <th>date</th>\n",
       "      <th>Encoded_PlaceID</th>\n",
       "    </tr>\n",
       "  </thead>\n",
       "  <tbody>\n",
       "    <tr>\n",
       "      <th>0</th>\n",
       "      <td>11.600000</td>\n",
       "      <td>30.200001</td>\n",
       "      <td>0.00409</td>\n",
       "      <td>14.656824</td>\n",
       "      <td>3.956377</td>\n",
       "      <td>0.712605</td>\n",
       "      <td>0.000053</td>\n",
       "      <td>0.000108</td>\n",
       "      <td>0.466171</td>\n",
       "      <td>0.010752</td>\n",
       "      <td>...</td>\n",
       "      <td>-0.140458</td>\n",
       "      <td>0.032071</td>\n",
       "      <td>68.099367</td>\n",
       "      <td>1.445658</td>\n",
       "      <td>-95.984984</td>\n",
       "      <td>22.942019</td>\n",
       "      <td>2020.0</td>\n",
       "      <td>1.0</td>\n",
       "      <td>2.0</td>\n",
       "      <td>0.0</td>\n",
       "    </tr>\n",
       "    <tr>\n",
       "      <th>1</th>\n",
       "      <td>18.300001</td>\n",
       "      <td>42.900002</td>\n",
       "      <td>0.00595</td>\n",
       "      <td>15.026544</td>\n",
       "      <td>4.230430</td>\n",
       "      <td>0.661892</td>\n",
       "      <td>0.000050</td>\n",
       "      <td>0.000109</td>\n",
       "      <td>-0.213659</td>\n",
       "      <td>0.028307</td>\n",
       "      <td>...</td>\n",
       "      <td>-0.842713</td>\n",
       "      <td>0.040803</td>\n",
       "      <td>75.936813</td>\n",
       "      <td>34.641758</td>\n",
       "      <td>-95.014908</td>\n",
       "      <td>18.539116</td>\n",
       "      <td>2020.0</td>\n",
       "      <td>1.0</td>\n",
       "      <td>3.0</td>\n",
       "      <td>0.0</td>\n",
       "    </tr>\n",
       "    <tr>\n",
       "      <th>2</th>\n",
       "      <td>17.600000</td>\n",
       "      <td>41.299999</td>\n",
       "      <td>0.00590</td>\n",
       "      <td>15.511041</td>\n",
       "      <td>5.245728</td>\n",
       "      <td>1.640559</td>\n",
       "      <td>0.000050</td>\n",
       "      <td>0.000134</td>\n",
       "      <td>-0.254250</td>\n",
       "      <td>0.010374</td>\n",
       "      <td>...</td>\n",
       "      <td>-0.716770</td>\n",
       "      <td>0.007113</td>\n",
       "      <td>75.552445</td>\n",
       "      <td>55.872276</td>\n",
       "      <td>-94.015418</td>\n",
       "      <td>14.140820</td>\n",
       "      <td>2020.0</td>\n",
       "      <td>1.0</td>\n",
       "      <td>4.0</td>\n",
       "      <td>0.0</td>\n",
       "    </tr>\n",
       "    <tr>\n",
       "      <th>3</th>\n",
       "      <td>15.011948</td>\n",
       "      <td>53.100002</td>\n",
       "      <td>0.00709</td>\n",
       "      <td>14.441858</td>\n",
       "      <td>5.454001</td>\n",
       "      <td>-0.190532</td>\n",
       "      <td>0.000055</td>\n",
       "      <td>0.000155</td>\n",
       "      <td>-0.268490</td>\n",
       "      <td>0.088795</td>\n",
       "      <td>...</td>\n",
       "      <td>-0.730104</td>\n",
       "      <td>0.062076</td>\n",
       "      <td>-102.285125</td>\n",
       "      <td>59.174188</td>\n",
       "      <td>-97.247602</td>\n",
       "      <td>32.730553</td>\n",
       "      <td>2020.0</td>\n",
       "      <td>1.0</td>\n",
       "      <td>5.0</td>\n",
       "      <td>0.0</td>\n",
       "    </tr>\n",
       "    <tr>\n",
       "      <th>4</th>\n",
       "      <td>9.700000</td>\n",
       "      <td>71.599998</td>\n",
       "      <td>0.00808</td>\n",
       "      <td>11.896295</td>\n",
       "      <td>3.511787</td>\n",
       "      <td>-0.279441</td>\n",
       "      <td>0.000055</td>\n",
       "      <td>0.000131</td>\n",
       "      <td>0.460720</td>\n",
       "      <td>0.041197</td>\n",
       "      <td>...</td>\n",
       "      <td>-0.108353</td>\n",
       "      <td>0.042777</td>\n",
       "      <td>-102.133957</td>\n",
       "      <td>40.925873</td>\n",
       "      <td>-96.057265</td>\n",
       "      <td>28.320527</td>\n",
       "      <td>2020.0</td>\n",
       "      <td>1.0</td>\n",
       "      <td>6.0</td>\n",
       "      <td>0.0</td>\n",
       "    </tr>\n",
       "  </tbody>\n",
       "</table>\n",
       "<p>5 rows × 71 columns</p>\n",
       "</div>"
      ],
      "text/plain": [
       "   precipitable_water_entire_atmosphere  relative_humidity_2m_above_ground  \\\n",
       "0                             11.600000                          30.200001   \n",
       "1                             18.300001                          42.900002   \n",
       "2                             17.600000                          41.299999   \n",
       "3                             15.011948                          53.100002   \n",
       "4                              9.700000                          71.599998   \n",
       "\n",
       "   specific_humidity_2m_above_ground  temperature_2m_above_ground  \\\n",
       "0                            0.00409                    14.656824   \n",
       "1                            0.00595                    15.026544   \n",
       "2                            0.00590                    15.511041   \n",
       "3                            0.00709                    14.441858   \n",
       "4                            0.00808                    11.896295   \n",
       "\n",
       "   u_component_of_wind_10m_above_ground  v_component_of_wind_10m_above_ground  \\\n",
       "0                              3.956377                              0.712605   \n",
       "1                              4.230430                              0.661892   \n",
       "2                              5.245728                              1.640559   \n",
       "3                              5.454001                             -0.190532   \n",
       "4                              3.511787                             -0.279441   \n",
       "\n",
       "   L3_NO2_NO2_column_number_density  L3_NO2_NO2_slant_column_number_density  \\\n",
       "0                          0.000053                                0.000108   \n",
       "1                          0.000050                                0.000109   \n",
       "2                          0.000050                                0.000134   \n",
       "3                          0.000055                                0.000155   \n",
       "4                          0.000055                                0.000131   \n",
       "\n",
       "   L3_NO2_absorbing_aerosol_index  L3_NO2_cloud_fraction  ...  \\\n",
       "0                        0.466171               0.010752  ...   \n",
       "1                       -0.213659               0.028307  ...   \n",
       "2                       -0.254250               0.010374  ...   \n",
       "3                       -0.268490               0.088795  ...   \n",
       "4                        0.460720               0.041197  ...   \n",
       "\n",
       "   L3_SO2_absorbing_aerosol_index  L3_SO2_cloud_fraction  \\\n",
       "0                       -0.140458               0.032071   \n",
       "1                       -0.842713               0.040803   \n",
       "2                       -0.716770               0.007113   \n",
       "3                       -0.730104               0.062076   \n",
       "4                       -0.108353               0.042777   \n",
       "\n",
       "   L3_SO2_sensor_azimuth_angle  L3_SO2_sensor_zenith_angle  \\\n",
       "0                    68.099367                    1.445658   \n",
       "1                    75.936813                   34.641758   \n",
       "2                    75.552445                   55.872276   \n",
       "3                  -102.285125                   59.174188   \n",
       "4                  -102.133957                   40.925873   \n",
       "\n",
       "   L3_SO2_solar_azimuth_angle  L3_SO2_solar_zenith_angle    year  month  date  \\\n",
       "0                  -95.984984                  22.942019  2020.0    1.0   2.0   \n",
       "1                  -95.014908                  18.539116  2020.0    1.0   3.0   \n",
       "2                  -94.015418                  14.140820  2020.0    1.0   4.0   \n",
       "3                  -97.247602                  32.730553  2020.0    1.0   5.0   \n",
       "4                  -96.057265                  28.320527  2020.0    1.0   6.0   \n",
       "\n",
       "   Encoded_PlaceID  \n",
       "0              0.0  \n",
       "1              0.0  \n",
       "2              0.0  \n",
       "3              0.0  \n",
       "4              0.0  \n",
       "\n",
       "[5 rows x 71 columns]"
      ]
     },
     "execution_count": 38,
     "metadata": {},
     "output_type": "execute_result"
    }
   ],
   "source": [
    "test_imputed = pd.DataFrame(test_impute, columns = test_df.columns)\n",
    "\n",
    "test_imputed.head()"
   ]
  },
  {
   "cell_type": "code",
   "execution_count": 39,
   "id": "c67d0598-bc20-4e9d-9d63-c884611ad9cb",
   "metadata": {},
   "outputs": [
    {
     "data": {
      "text/html": [
       "<div>\n",
       "<style scoped>\n",
       "    .dataframe tbody tr th:only-of-type {\n",
       "        vertical-align: middle;\n",
       "    }\n",
       "\n",
       "    .dataframe tbody tr th {\n",
       "        vertical-align: top;\n",
       "    }\n",
       "\n",
       "    .dataframe thead th {\n",
       "        text-align: right;\n",
       "    }\n",
       "</style>\n",
       "<table border=\"1\" class=\"dataframe\">\n",
       "  <thead>\n",
       "    <tr style=\"text-align: right;\">\n",
       "      <th></th>\n",
       "      <th>target</th>\n",
       "      <th>target_min</th>\n",
       "      <th>target_max</th>\n",
       "      <th>target_variance</th>\n",
       "      <th>target_count</th>\n",
       "    </tr>\n",
       "  </thead>\n",
       "  <tbody>\n",
       "    <tr>\n",
       "      <th>0</th>\n",
       "      <td>38.0</td>\n",
       "      <td>23.0</td>\n",
       "      <td>53.0</td>\n",
       "      <td>769.50</td>\n",
       "      <td>92</td>\n",
       "    </tr>\n",
       "    <tr>\n",
       "      <th>1</th>\n",
       "      <td>39.0</td>\n",
       "      <td>25.0</td>\n",
       "      <td>63.0</td>\n",
       "      <td>1319.85</td>\n",
       "      <td>91</td>\n",
       "    </tr>\n",
       "    <tr>\n",
       "      <th>2</th>\n",
       "      <td>24.0</td>\n",
       "      <td>8.0</td>\n",
       "      <td>56.0</td>\n",
       "      <td>1181.96</td>\n",
       "      <td>96</td>\n",
       "    </tr>\n",
       "    <tr>\n",
       "      <th>3</th>\n",
       "      <td>49.0</td>\n",
       "      <td>10.0</td>\n",
       "      <td>55.0</td>\n",
       "      <td>1113.67</td>\n",
       "      <td>96</td>\n",
       "    </tr>\n",
       "    <tr>\n",
       "      <th>4</th>\n",
       "      <td>21.0</td>\n",
       "      <td>9.0</td>\n",
       "      <td>52.0</td>\n",
       "      <td>1164.82</td>\n",
       "      <td>95</td>\n",
       "    </tr>\n",
       "  </tbody>\n",
       "</table>\n",
       "</div>"
      ],
      "text/plain": [
       "   target  target_min  target_max  target_variance  target_count\n",
       "0    38.0        23.0        53.0           769.50            92\n",
       "1    39.0        25.0        63.0          1319.85            91\n",
       "2    24.0         8.0        56.0          1181.96            96\n",
       "3    49.0        10.0        55.0          1113.67            96\n",
       "4    21.0         9.0        52.0          1164.82            95"
      ]
     },
     "execution_count": 39,
     "metadata": {},
     "output_type": "execute_result"
    }
   ],
   "source": [
    "train_targets.head()"
   ]
  },
  {
   "cell_type": "markdown",
   "id": "ee7da478-8219-4f6c-8f31-98d3246cd8af",
   "metadata": {},
   "source": [
    "## `Train` Features and `target` feature"
   ]
  },
  {
   "cell_type": "code",
   "execution_count": 41,
   "id": "4cfa03f2-cdb6-4c94-87d0-752b2296e4af",
   "metadata": {},
   "outputs": [],
   "source": [
    "X, y = train_imputed, train_targets[\"target\"]"
   ]
  },
  {
   "cell_type": "code",
   "execution_count": 46,
   "id": "a42abce7-802f-41a1-ba3e-98e5d05e316d",
   "metadata": {},
   "outputs": [],
   "source": [
    "from sklearn.preprocessing import MinMaxScaler\n",
    "from sklearn.model_selection import train_test_split\n",
    "from sklearn.metrics import mean_squared_error\n",
    "\n",
    "scaler = MinMaxScaler()\n",
    "scaled_X = scaler.fit_transform(X)"
   ]
  },
  {
   "cell_type": "code",
   "execution_count": 47,
   "id": "37ba70c8-4501-4bd4-b45a-866991a22594",
   "metadata": {},
   "outputs": [],
   "source": [
    "X_train, X_test, y_train, y_test = train_test_split(scaled_X, y, test_size=0.2, random_state=42)"
   ]
  },
  {
   "cell_type": "code",
   "execution_count": 48,
   "id": "fea937fe-3950-44ff-b086-40de6e6c3a61",
   "metadata": {},
   "outputs": [],
   "source": [
    "#Xgboost"
   ]
  },
  {
   "cell_type": "code",
   "execution_count": 49,
   "id": "e420604f-731c-4c67-987a-2fa50db734b8",
   "metadata": {},
   "outputs": [],
   "source": [
    "import xgboost as xgb"
   ]
  },
  {
   "cell_type": "code",
   "execution_count": 50,
   "id": "f4d15db0-2ac4-47ba-bde0-58dbcba02ec1",
   "metadata": {},
   "outputs": [
    {
     "data": {
      "text/html": [
       "<style>#sk-container-id-1 {color: black;}#sk-container-id-1 pre{padding: 0;}#sk-container-id-1 div.sk-toggleable {background-color: white;}#sk-container-id-1 label.sk-toggleable__label {cursor: pointer;display: block;width: 100%;margin-bottom: 0;padding: 0.3em;box-sizing: border-box;text-align: center;}#sk-container-id-1 label.sk-toggleable__label-arrow:before {content: \"▸\";float: left;margin-right: 0.25em;color: #696969;}#sk-container-id-1 label.sk-toggleable__label-arrow:hover:before {color: black;}#sk-container-id-1 div.sk-estimator:hover label.sk-toggleable__label-arrow:before {color: black;}#sk-container-id-1 div.sk-toggleable__content {max-height: 0;max-width: 0;overflow: hidden;text-align: left;background-color: #f0f8ff;}#sk-container-id-1 div.sk-toggleable__content pre {margin: 0.2em;color: black;border-radius: 0.25em;background-color: #f0f8ff;}#sk-container-id-1 input.sk-toggleable__control:checked~div.sk-toggleable__content {max-height: 200px;max-width: 100%;overflow: auto;}#sk-container-id-1 input.sk-toggleable__control:checked~label.sk-toggleable__label-arrow:before {content: \"▾\";}#sk-container-id-1 div.sk-estimator input.sk-toggleable__control:checked~label.sk-toggleable__label {background-color: #d4ebff;}#sk-container-id-1 div.sk-label input.sk-toggleable__control:checked~label.sk-toggleable__label {background-color: #d4ebff;}#sk-container-id-1 input.sk-hidden--visually {border: 0;clip: rect(1px 1px 1px 1px);clip: rect(1px, 1px, 1px, 1px);height: 1px;margin: -1px;overflow: hidden;padding: 0;position: absolute;width: 1px;}#sk-container-id-1 div.sk-estimator {font-family: monospace;background-color: #f0f8ff;border: 1px dotted black;border-radius: 0.25em;box-sizing: border-box;margin-bottom: 0.5em;}#sk-container-id-1 div.sk-estimator:hover {background-color: #d4ebff;}#sk-container-id-1 div.sk-parallel-item::after {content: \"\";width: 100%;border-bottom: 1px solid gray;flex-grow: 1;}#sk-container-id-1 div.sk-label:hover label.sk-toggleable__label {background-color: #d4ebff;}#sk-container-id-1 div.sk-serial::before {content: \"\";position: absolute;border-left: 1px solid gray;box-sizing: border-box;top: 0;bottom: 0;left: 50%;z-index: 0;}#sk-container-id-1 div.sk-serial {display: flex;flex-direction: column;align-items: center;background-color: white;padding-right: 0.2em;padding-left: 0.2em;position: relative;}#sk-container-id-1 div.sk-item {position: relative;z-index: 1;}#sk-container-id-1 div.sk-parallel {display: flex;align-items: stretch;justify-content: center;background-color: white;position: relative;}#sk-container-id-1 div.sk-item::before, #sk-container-id-1 div.sk-parallel-item::before {content: \"\";position: absolute;border-left: 1px solid gray;box-sizing: border-box;top: 0;bottom: 0;left: 50%;z-index: -1;}#sk-container-id-1 div.sk-parallel-item {display: flex;flex-direction: column;z-index: 1;position: relative;background-color: white;}#sk-container-id-1 div.sk-parallel-item:first-child::after {align-self: flex-end;width: 50%;}#sk-container-id-1 div.sk-parallel-item:last-child::after {align-self: flex-start;width: 50%;}#sk-container-id-1 div.sk-parallel-item:only-child::after {width: 0;}#sk-container-id-1 div.sk-dashed-wrapped {border: 1px dashed gray;margin: 0 0.4em 0.5em 0.4em;box-sizing: border-box;padding-bottom: 0.4em;background-color: white;}#sk-container-id-1 div.sk-label label {font-family: monospace;font-weight: bold;display: inline-block;line-height: 1.2em;}#sk-container-id-1 div.sk-label-container {text-align: center;}#sk-container-id-1 div.sk-container {/* jupyter's `normalize.less` sets `[hidden] { display: none; }` but bootstrap.min.css set `[hidden] { display: none !important; }` so we also need the `!important` here to be able to override the default hidden behavior on the sphinx rendered scikit-learn.org. See: https://github.com/scikit-learn/scikit-learn/issues/21755 */display: inline-block !important;position: relative;}#sk-container-id-1 div.sk-text-repr-fallback {display: none;}</style><div id=\"sk-container-id-1\" class=\"sk-top-container\"><div class=\"sk-text-repr-fallback\"><pre>XGBRegressor(base_score=None, booster=None, callbacks=None,\n",
       "             colsample_bylevel=None, colsample_bynode=None,\n",
       "             colsample_bytree=None, early_stopping_rounds=None,\n",
       "             enable_categorical=False, eval_metric=None, feature_types=None,\n",
       "             gamma=None, gpu_id=None, grow_policy=None, importance_type=None,\n",
       "             interaction_constraints=None, learning_rate=None, max_bin=None,\n",
       "             max_cat_threshold=None, max_cat_to_onehot=None,\n",
       "             max_delta_step=None, max_depth=15, max_leaves=None,\n",
       "             min_child_weight=None, missing=nan, monotone_constraints=None,\n",
       "             n_estimators=100, n_jobs=None, num_parallel_tree=None,\n",
       "             predictor=None, random_state=42, ...)</pre><b>In a Jupyter environment, please rerun this cell to show the HTML representation or trust the notebook. <br />On GitHub, the HTML representation is unable to render, please try loading this page with nbviewer.org.</b></div><div class=\"sk-container\" hidden><div class=\"sk-item\"><div class=\"sk-estimator sk-toggleable\"><input class=\"sk-toggleable__control sk-hidden--visually\" id=\"sk-estimator-id-1\" type=\"checkbox\" checked><label for=\"sk-estimator-id-1\" class=\"sk-toggleable__label sk-toggleable__label-arrow\">XGBRegressor</label><div class=\"sk-toggleable__content\"><pre>XGBRegressor(base_score=None, booster=None, callbacks=None,\n",
       "             colsample_bylevel=None, colsample_bynode=None,\n",
       "             colsample_bytree=None, early_stopping_rounds=None,\n",
       "             enable_categorical=False, eval_metric=None, feature_types=None,\n",
       "             gamma=None, gpu_id=None, grow_policy=None, importance_type=None,\n",
       "             interaction_constraints=None, learning_rate=None, max_bin=None,\n",
       "             max_cat_threshold=None, max_cat_to_onehot=None,\n",
       "             max_delta_step=None, max_depth=15, max_leaves=None,\n",
       "             min_child_weight=None, missing=nan, monotone_constraints=None,\n",
       "             n_estimators=100, n_jobs=None, num_parallel_tree=None,\n",
       "             predictor=None, random_state=42, ...)</pre></div></div></div></div></div>"
      ],
      "text/plain": [
       "XGBRegressor(base_score=None, booster=None, callbacks=None,\n",
       "             colsample_bylevel=None, colsample_bynode=None,\n",
       "             colsample_bytree=None, early_stopping_rounds=None,\n",
       "             enable_categorical=False, eval_metric=None, feature_types=None,\n",
       "             gamma=None, gpu_id=None, grow_policy=None, importance_type=None,\n",
       "             interaction_constraints=None, learning_rate=None, max_bin=None,\n",
       "             max_cat_threshold=None, max_cat_to_onehot=None,\n",
       "             max_delta_step=None, max_depth=15, max_leaves=None,\n",
       "             min_child_weight=None, missing=nan, monotone_constraints=None,\n",
       "             n_estimators=100, n_jobs=None, num_parallel_tree=None,\n",
       "             predictor=None, random_state=42, ...)"
      ]
     },
     "execution_count": 50,
     "metadata": {},
     "output_type": "execute_result"
    }
   ],
   "source": [
    "xgb_model = xgb.XGBRegressor(objective ='reg:squarederror', max_depth=15, n_estimators=100, random_state=42)  # Adjust parameters as needed\n",
    "xgb_model.fit(X_train, y_train)"
   ]
  },
  {
   "cell_type": "code",
   "execution_count": 51,
   "id": "b5b219a2-0e90-4f66-9206-08f0ace3800c",
   "metadata": {},
   "outputs": [],
   "source": [
    "# Make predictions on the test set\n",
    "y_pred = xgb_model.predict(X_test)"
   ]
  },
  {
   "cell_type": "code",
   "execution_count": 52,
   "id": "2f29dab1-e53c-4e4d-aab1-607a374cea9f",
   "metadata": {},
   "outputs": [
    {
     "name": "stdout",
     "output_type": "stream",
     "text": [
      "Root Mean Squared Error (RMSE): 29.75550405319232\n"
     ]
    }
   ],
   "source": [
    "# Calculate Mean Squared Error (MSE)\n",
    "mse = mean_squared_error(y_test, y_pred)\n",
    "\n",
    "# Calculate Root Mean Squared Error (RMSE)\n",
    "rmse = np.sqrt(mse)\n",
    "\n",
    "# Print or use the RMSE value as needed\n",
    "print(\"Root Mean Squared Error (RMSE):\", rmse)"
   ]
  },
  {
   "cell_type": "markdown",
   "id": "90a650c0-df5d-41d7-a713-45dde7a5f786",
   "metadata": {},
   "source": [
    "**Our rmse looks intresting but a cross validation test would have been more accurate** "
   ]
  },
  {
   "cell_type": "code",
   "execution_count": 53,
   "id": "6320613d-c2e8-4970-91ca-b44baf5d6b4a",
   "metadata": {},
   "outputs": [
    {
     "data": {
      "text/html": [
       "<style>#sk-container-id-2 {color: black;}#sk-container-id-2 pre{padding: 0;}#sk-container-id-2 div.sk-toggleable {background-color: white;}#sk-container-id-2 label.sk-toggleable__label {cursor: pointer;display: block;width: 100%;margin-bottom: 0;padding: 0.3em;box-sizing: border-box;text-align: center;}#sk-container-id-2 label.sk-toggleable__label-arrow:before {content: \"▸\";float: left;margin-right: 0.25em;color: #696969;}#sk-container-id-2 label.sk-toggleable__label-arrow:hover:before {color: black;}#sk-container-id-2 div.sk-estimator:hover label.sk-toggleable__label-arrow:before {color: black;}#sk-container-id-2 div.sk-toggleable__content {max-height: 0;max-width: 0;overflow: hidden;text-align: left;background-color: #f0f8ff;}#sk-container-id-2 div.sk-toggleable__content pre {margin: 0.2em;color: black;border-radius: 0.25em;background-color: #f0f8ff;}#sk-container-id-2 input.sk-toggleable__control:checked~div.sk-toggleable__content {max-height: 200px;max-width: 100%;overflow: auto;}#sk-container-id-2 input.sk-toggleable__control:checked~label.sk-toggleable__label-arrow:before {content: \"▾\";}#sk-container-id-2 div.sk-estimator input.sk-toggleable__control:checked~label.sk-toggleable__label {background-color: #d4ebff;}#sk-container-id-2 div.sk-label input.sk-toggleable__control:checked~label.sk-toggleable__label {background-color: #d4ebff;}#sk-container-id-2 input.sk-hidden--visually {border: 0;clip: rect(1px 1px 1px 1px);clip: rect(1px, 1px, 1px, 1px);height: 1px;margin: -1px;overflow: hidden;padding: 0;position: absolute;width: 1px;}#sk-container-id-2 div.sk-estimator {font-family: monospace;background-color: #f0f8ff;border: 1px dotted black;border-radius: 0.25em;box-sizing: border-box;margin-bottom: 0.5em;}#sk-container-id-2 div.sk-estimator:hover {background-color: #d4ebff;}#sk-container-id-2 div.sk-parallel-item::after {content: \"\";width: 100%;border-bottom: 1px solid gray;flex-grow: 1;}#sk-container-id-2 div.sk-label:hover label.sk-toggleable__label {background-color: #d4ebff;}#sk-container-id-2 div.sk-serial::before {content: \"\";position: absolute;border-left: 1px solid gray;box-sizing: border-box;top: 0;bottom: 0;left: 50%;z-index: 0;}#sk-container-id-2 div.sk-serial {display: flex;flex-direction: column;align-items: center;background-color: white;padding-right: 0.2em;padding-left: 0.2em;position: relative;}#sk-container-id-2 div.sk-item {position: relative;z-index: 1;}#sk-container-id-2 div.sk-parallel {display: flex;align-items: stretch;justify-content: center;background-color: white;position: relative;}#sk-container-id-2 div.sk-item::before, #sk-container-id-2 div.sk-parallel-item::before {content: \"\";position: absolute;border-left: 1px solid gray;box-sizing: border-box;top: 0;bottom: 0;left: 50%;z-index: -1;}#sk-container-id-2 div.sk-parallel-item {display: flex;flex-direction: column;z-index: 1;position: relative;background-color: white;}#sk-container-id-2 div.sk-parallel-item:first-child::after {align-self: flex-end;width: 50%;}#sk-container-id-2 div.sk-parallel-item:last-child::after {align-self: flex-start;width: 50%;}#sk-container-id-2 div.sk-parallel-item:only-child::after {width: 0;}#sk-container-id-2 div.sk-dashed-wrapped {border: 1px dashed gray;margin: 0 0.4em 0.5em 0.4em;box-sizing: border-box;padding-bottom: 0.4em;background-color: white;}#sk-container-id-2 div.sk-label label {font-family: monospace;font-weight: bold;display: inline-block;line-height: 1.2em;}#sk-container-id-2 div.sk-label-container {text-align: center;}#sk-container-id-2 div.sk-container {/* jupyter's `normalize.less` sets `[hidden] { display: none; }` but bootstrap.min.css set `[hidden] { display: none !important; }` so we also need the `!important` here to be able to override the default hidden behavior on the sphinx rendered scikit-learn.org. See: https://github.com/scikit-learn/scikit-learn/issues/21755 */display: inline-block !important;position: relative;}#sk-container-id-2 div.sk-text-repr-fallback {display: none;}</style><div id=\"sk-container-id-2\" class=\"sk-top-container\"><div class=\"sk-text-repr-fallback\"><pre>XGBRegressor(base_score=None, booster=None, callbacks=None,\n",
       "             colsample_bylevel=None, colsample_bynode=None,\n",
       "             colsample_bytree=None, early_stopping_rounds=None,\n",
       "             enable_categorical=False, eval_metric=None, feature_types=None,\n",
       "             gamma=None, gpu_id=None, grow_policy=None, importance_type=None,\n",
       "             interaction_constraints=None, learning_rate=None, max_bin=None,\n",
       "             max_cat_threshold=None, max_cat_to_onehot=None,\n",
       "             max_delta_step=None, max_depth=15, max_leaves=None,\n",
       "             min_child_weight=None, missing=nan, monotone_constraints=None,\n",
       "             n_estimators=100, n_jobs=None, num_parallel_tree=None,\n",
       "             predictor=None, random_state=42, ...)</pre><b>In a Jupyter environment, please rerun this cell to show the HTML representation or trust the notebook. <br />On GitHub, the HTML representation is unable to render, please try loading this page with nbviewer.org.</b></div><div class=\"sk-container\" hidden><div class=\"sk-item\"><div class=\"sk-estimator sk-toggleable\"><input class=\"sk-toggleable__control sk-hidden--visually\" id=\"sk-estimator-id-2\" type=\"checkbox\" checked><label for=\"sk-estimator-id-2\" class=\"sk-toggleable__label sk-toggleable__label-arrow\">XGBRegressor</label><div class=\"sk-toggleable__content\"><pre>XGBRegressor(base_score=None, booster=None, callbacks=None,\n",
       "             colsample_bylevel=None, colsample_bynode=None,\n",
       "             colsample_bytree=None, early_stopping_rounds=None,\n",
       "             enable_categorical=False, eval_metric=None, feature_types=None,\n",
       "             gamma=None, gpu_id=None, grow_policy=None, importance_type=None,\n",
       "             interaction_constraints=None, learning_rate=None, max_bin=None,\n",
       "             max_cat_threshold=None, max_cat_to_onehot=None,\n",
       "             max_delta_step=None, max_depth=15, max_leaves=None,\n",
       "             min_child_weight=None, missing=nan, monotone_constraints=None,\n",
       "             n_estimators=100, n_jobs=None, num_parallel_tree=None,\n",
       "             predictor=None, random_state=42, ...)</pre></div></div></div></div></div>"
      ],
      "text/plain": [
       "XGBRegressor(base_score=None, booster=None, callbacks=None,\n",
       "             colsample_bylevel=None, colsample_bynode=None,\n",
       "             colsample_bytree=None, early_stopping_rounds=None,\n",
       "             enable_categorical=False, eval_metric=None, feature_types=None,\n",
       "             gamma=None, gpu_id=None, grow_policy=None, importance_type=None,\n",
       "             interaction_constraints=None, learning_rate=None, max_bin=None,\n",
       "             max_cat_threshold=None, max_cat_to_onehot=None,\n",
       "             max_delta_step=None, max_depth=15, max_leaves=None,\n",
       "             min_child_weight=None, missing=nan, monotone_constraints=None,\n",
       "             n_estimators=100, n_jobs=None, num_parallel_tree=None,\n",
       "             predictor=None, random_state=42, ...)"
      ]
     },
     "execution_count": 53,
     "metadata": {},
     "output_type": "execute_result"
    }
   ],
   "source": [
    "xgb_model.fit(scaled_X, y)"
   ]
  },
  {
   "cell_type": "code",
   "execution_count": 55,
   "id": "4adc5a1a-e667-41d6-9977-c5199198b083",
   "metadata": {},
   "outputs": [],
   "source": [
    "test_scaled = scaler.transform(test_imputed)"
   ]
  },
  {
   "cell_type": "code",
   "execution_count": 56,
   "id": "2e356c34-8fb5-480c-913a-c183f3733aa7",
   "metadata": {},
   "outputs": [],
   "source": [
    "y_pred = xgb_model.predict(test_scaled)"
   ]
  },
  {
   "cell_type": "code",
   "execution_count": 57,
   "id": "740f9334-d3bc-481d-9888-8d4bbab46dd2",
   "metadata": {},
   "outputs": [],
   "source": [
    "prediction = pd.Series(y_pred, name = \"target\")"
   ]
  },
  {
   "cell_type": "code",
   "execution_count": 58,
   "id": "1739fd67-52ce-4ad2-aebb-3af4ea989a25",
   "metadata": {},
   "outputs": [
    {
     "data": {
      "text/html": [
       "<div>\n",
       "<style scoped>\n",
       "    .dataframe tbody tr th:only-of-type {\n",
       "        vertical-align: middle;\n",
       "    }\n",
       "\n",
       "    .dataframe tbody tr th {\n",
       "        vertical-align: top;\n",
       "    }\n",
       "\n",
       "    .dataframe thead th {\n",
       "        text-align: right;\n",
       "    }\n",
       "</style>\n",
       "<table border=\"1\" class=\"dataframe\">\n",
       "  <thead>\n",
       "    <tr style=\"text-align: right;\">\n",
       "      <th></th>\n",
       "      <th>Place_ID X Date</th>\n",
       "      <th>target</th>\n",
       "    </tr>\n",
       "  </thead>\n",
       "  <tbody>\n",
       "    <tr>\n",
       "      <th>0</th>\n",
       "      <td>0OS9LVX X 2020-01-02</td>\n",
       "      <td>42.172283</td>\n",
       "    </tr>\n",
       "    <tr>\n",
       "      <th>1</th>\n",
       "      <td>0OS9LVX X 2020-01-03</td>\n",
       "      <td>45.034595</td>\n",
       "    </tr>\n",
       "    <tr>\n",
       "      <th>2</th>\n",
       "      <td>0OS9LVX X 2020-01-04</td>\n",
       "      <td>40.486160</td>\n",
       "    </tr>\n",
       "    <tr>\n",
       "      <th>3</th>\n",
       "      <td>0OS9LVX X 2020-01-05</td>\n",
       "      <td>19.891390</td>\n",
       "    </tr>\n",
       "    <tr>\n",
       "      <th>4</th>\n",
       "      <td>0OS9LVX X 2020-01-06</td>\n",
       "      <td>46.938175</td>\n",
       "    </tr>\n",
       "  </tbody>\n",
       "</table>\n",
       "</div>"
      ],
      "text/plain": [
       "        Place_ID X Date     target\n",
       "0  0OS9LVX X 2020-01-02  42.172283\n",
       "1  0OS9LVX X 2020-01-03  45.034595\n",
       "2  0OS9LVX X 2020-01-04  40.486160\n",
       "3  0OS9LVX X 2020-01-05  19.891390\n",
       "4  0OS9LVX X 2020-01-06  46.938175"
      ]
     },
     "execution_count": 58,
     "metadata": {},
     "output_type": "execute_result"
    }
   ],
   "source": [
    "submission = pd.concat([test[\"Place_ID X Date\"], prediction], axis = 1)\n",
    "submission.head()"
   ]
  },
  {
   "cell_type": "code",
   "execution_count": 59,
   "id": "01defeee-1fbc-4da5-89cc-d2182390fa66",
   "metadata": {},
   "outputs": [],
   "source": [
    "submission.to_csv(\"submission_One.csv\", index = False)"
   ]
  },
  {
   "cell_type": "code",
   "execution_count": null,
   "id": "b96df9e5-7d36-42f2-a30f-16a173dc3831",
   "metadata": {},
   "outputs": [],
   "source": []
  }
 ],
 "metadata": {
  "kernelspec": {
   "display_name": "Python 3 (ipykernel)",
   "language": "python",
   "name": "python3"
  },
  "language_info": {
   "codemirror_mode": {
    "name": "ipython",
    "version": 3
   },
   "file_extension": ".py",
   "mimetype": "text/x-python",
   "name": "python",
   "nbconvert_exporter": "python",
   "pygments_lexer": "ipython3",
   "version": "3.11.5"
  }
 },
 "nbformat": 4,
 "nbformat_minor": 5
}
